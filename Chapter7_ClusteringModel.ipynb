{
 "cells": [
  {
   "cell_type": "code",
   "execution_count": 1,
   "metadata": {
    "collapsed": true
   },
   "outputs": [],
   "source": [
    "# SparkContext is already defined as sc\n",
    "HDFS = 'hdfs://scut0:9000/ml-100k/'"
   ]
  },
  {
   "cell_type": "code",
   "execution_count": 2,
   "metadata": {},
   "outputs": [
    {
     "name": "stdout",
     "output_type": "stream",
     "text": [
      "1|Toy Story (1995)|01-Jan-1995||http://us.imdb.com/M/title-exact?Toy%20Story%20(1995)|0|0|0|1|1|1|0|0|0|0|0|0|0|0|0|0|0|0|0\n"
     ]
    }
   ],
   "source": [
    "movies = sc.textFile(HDFS+'u.item')\n",
    "print(movies.first())"
   ]
  },
  {
   "cell_type": "markdown",
   "metadata": {},
   "source": [
    "# Extracting features from the MovieLens dataset"
   ]
  },
  {
   "cell_type": "markdown",
   "metadata": {},
   "source": [
    "## Extracting movie genre labels"
   ]
  },
  {
   "cell_type": "code",
   "execution_count": 3,
   "metadata": {},
   "outputs": [
    {
     "name": "stdout",
     "output_type": "stream",
     "text": [
      "[u'unknown|0', u'Action|1', u'Adventure|2', u'Animation|3', u\"Children's|4\"]\n"
     ]
    }
   ],
   "source": [
    "genres = sc.textFile(HDFS+'u.genre')\n",
    "print(genres.take(5))"
   ]
  },
  {
   "cell_type": "code",
   "execution_count": 4,
   "metadata": {
    "scrolled": true
   },
   "outputs": [
    {
     "name": "stdout",
     "output_type": "stream",
     "text": [
      "{u'11': u'Horror', u'10': u'Film-Noir', u'13': u'Mystery', u'12': u'Musical', u'15': u'Sci-Fi', u'14': u'Romance', u'17': u'War', u'16': u'Thriller', u'18': u'Western', u'1': u'Action', u'0': u'unknown', u'3': u'Animation', u'2': u'Adventure', u'5': u'Comedy', u'4': u\"Children's\", u'7': u'Documentary', u'6': u'Crime', u'9': u'Fantasy', u'8': u'Drama'}\n"
     ]
    }
   ],
   "source": [
    "def id2GenreText(line):\n",
    "    text, idx = line.strip().split('|')\n",
    "    return (idx, text)\n",
    "\n",
    "genresMapping = genres.filter(lambda line: len(line) > 0).map(id2GenreText).collectAsMap()\n",
    "print(genresMapping)"
   ]
  },
  {
   "cell_type": "code",
   "execution_count": 5,
   "metadata": {},
   "outputs": [
    {
     "name": "stdout",
     "output_type": "stream",
     "text": [
      "(1, (u'Toy Story (1995)', (u'Animation', u\"Children's\", u'Comedy')))\n"
     ]
    }
   ],
   "source": [
    "def getMovieGenreText(indices, genresMapping):\n",
    "    texts = []\n",
    "    for i in xrange(len(indices)):\n",
    "        if indices[i] == '1':\n",
    "            texts.append(genresMapping[str(i)])\n",
    "    return tuple(texts)\n",
    "\n",
    "titlesAndGenres = movies.map(lambda line : line.strip().split('|')).\\\n",
    "                       map(lambda fields:(int(fields[0]), (fields[1], getMovieGenreText(fields[5:], genresMapping))))\n",
    "\n",
    "print(titlesAndGenres.first())"
   ]
  },
  {
   "cell_type": "markdown",
   "metadata": {},
   "source": [
    "## Training the recommendation model"
   ]
  },
  {
   "cell_type": "code",
   "execution_count": 6,
   "metadata": {},
   "outputs": [],
   "source": [
    "from pyspark.mllib.recommendation import ALS, MatrixFactorizationModel, Rating\n",
    "\n",
    "# avoid the case when iteration is large, stackoverflow error occurs\n",
    "# see, https://stackoverflow.com/questions/31484460/spark-gives-a-stackoverflowerror-when-training-using-als\n",
    "sc.setCheckpointDir('hdfs://scut0:9000/checkpoint')\n",
    "\n",
    "# extract rating data\n",
    "data = sc.textFile(HDFS+'u.data')\n",
    "dataFields = data.map(lambda line: line.split())\n",
    "ratings = dataFields.map(lambda fields: Rating(fields[0], fields[1], fields[2]))\n",
    "\n",
    "# parameters\n",
    "rank = 200\n",
    "iterations = 50\n",
    "lambda_ = 0.01\n",
    "\n",
    "# train model and validate with MSE\n",
    "# referer: https://spark.apache.org/docs/latest/api/python/pyspark.mllib.html#pyspark.mllib.recommendation.ALS\n",
    "ALSModel = ALS.train(ratings, rank, iterations, lambda_)"
   ]
  },
  {
   "cell_type": "code",
   "execution_count": 7,
   "metadata": {},
   "outputs": [],
   "source": [
    "from pyspark.mllib.linalg import Vectors\n",
    "movieFactors = ALSModel.productFeatures().map(lambda line: (line[0], Vectors.dense(line[1])))\n",
    "movieVectors = movieFactors.map(lambda factor:factor[1])\n",
    "userFactors = ALSModel.userFeatures().map(lambda line: (line[0], Vectors.dense(line[1])))\n",
    "userVectors = userFactors.map(lambda feature: feature[1])                                          "
   ]
  },
  {
   "cell_type": "markdown",
   "metadata": {},
   "source": [
    "## Normalization"
   ]
  },
  {
   "cell_type": "code",
   "execution_count": 8,
   "metadata": {
    "scrolled": true
   },
   "outputs": [
    {
     "name": "stdout",
     "output_type": "stream",
     "text": [
      "('movie factors mean', array([ 0.11809382, -0.13237481, -0.46428199, -0.07625494,  0.06556419,\n",
      "       -0.11278825, -0.2739639 , -0.0847419 , -0.16477472,  0.08392202,\n",
      "       -0.01721492,  0.18962527,  0.26780778,  0.22818298,  0.09100991,\n",
      "       -0.05390393, -0.26537003,  0.07825395,  0.21351414, -0.0052318 ,\n",
      "       -0.19581692,  0.20449573, -0.0519071 ,  0.04844744,  0.04228252,\n",
      "        0.05602511,  0.13238836,  0.18402514,  0.46892526,  0.4472949 ,\n",
      "       -0.04606717, -0.02975684,  0.21997183, -0.07276207, -0.11343684,\n",
      "        0.20983819,  0.11016285, -0.0480332 , -0.09460587,  0.05803705,\n",
      "       -0.06033211,  0.08083551, -0.05254183,  0.03882401, -0.3982243 ,\n",
      "       -0.04410023,  0.18310318, -0.00816594,  0.04608939,  0.00518365,\n",
      "       -0.04198804,  0.0213554 , -0.19914427, -0.00421197,  0.16454437,\n",
      "        0.05091756,  0.06234672,  0.16551899,  0.15863412,  0.13749641,\n",
      "        0.0016159 , -0.1042815 , -0.0037928 ,  0.0656051 , -0.1398644 ,\n",
      "        0.14840497, -0.13846924,  0.00692579, -0.15904729, -0.14318593,\n",
      "        0.05377503, -0.15000361,  0.21788507, -0.07560307, -0.07512868,\n",
      "        0.17971224,  0.08545116,  0.02385314, -0.17028995,  0.03435339,\n",
      "        0.07053619,  0.0116824 ,  0.26665448, -0.33533076, -0.00687508,\n",
      "        0.1061242 ,  0.04437645, -0.03937715, -0.04115712, -0.38566747,\n",
      "        0.25876571, -0.02521839,  0.09975922,  0.14864722, -0.2370212 ,\n",
      "        0.15931687, -0.03607048, -0.09918923,  0.18937185, -0.16765729,\n",
      "        0.02123055, -0.03663779, -0.12272333,  0.04294321, -0.11105861,\n",
      "       -0.04625082,  0.29333586,  0.20931787,  0.02117389, -0.05210812,\n",
      "        0.05318508,  0.02897828,  0.05653553,  0.03264429,  0.33636233,\n",
      "        0.12940266,  0.15839373, -0.13523858, -0.11622229, -0.22709325,\n",
      "        0.11889186,  0.05083581,  0.21269051, -0.00484033, -0.2144904 ,\n",
      "       -0.10221974, -0.09588574, -0.1137655 , -0.02073042, -0.17126466,\n",
      "       -0.11464913, -0.08207307,  0.00669906,  0.17047681, -0.17691524,\n",
      "       -0.29512471, -0.16475961,  0.03079172,  0.15363571, -0.08146784,\n",
      "        0.20332529,  0.09463743, -0.00439661,  0.07070982, -0.02323174,\n",
      "       -0.14443037, -0.07703815,  0.25521678, -0.17582602, -0.00090903,\n",
      "       -0.23662903, -0.01852068,  0.11030575,  0.06756326,  0.03467124,\n",
      "        0.17766138, -0.28455902,  0.29155867, -0.21242644, -0.10690498,\n",
      "       -0.09129376,  0.04198078,  0.00504019, -0.02027194, -0.247153  ,\n",
      "        0.15744945, -0.00384269,  0.11673831, -0.17584395, -0.07157094,\n",
      "       -0.14260164,  0.13633781,  0.06471159, -0.09679557, -0.15416199,\n",
      "        0.21449676, -0.03397027, -0.05995192, -0.08870533, -0.11738343,\n",
      "        0.22106168, -0.0898209 ,  0.09714958, -0.0976237 , -0.0486959 ,\n",
      "        0.04648971,  0.05269716, -0.02656958, -0.13144903, -0.02828236,\n",
      "       -0.19422818, -0.07765156, -0.16470954, -0.01580591,  0.07205388,\n",
      "       -0.11727629, -0.185819  , -0.00640324,  0.21956596,  0.07828262]))\n",
      "('movie factors variance', array([ 0.02279261,  0.02340311,  0.06201766,  0.02313927,  0.02170053,\n",
      "        0.02062505,  0.03599416,  0.02357292,  0.02548374,  0.02429843,\n",
      "        0.0182179 ,  0.02846825,  0.03298086,  0.02694983,  0.02186341,\n",
      "        0.02282284,  0.03884515,  0.02187952,  0.04007924,  0.02389465,\n",
      "        0.03175901,  0.03397083,  0.02110668,  0.02074014,  0.02460248,\n",
      "        0.0235535 ,  0.02804851,  0.02673526,  0.06186804,  0.06453269,\n",
      "        0.01958407,  0.0238915 ,  0.03290761,  0.03078813,  0.03197227,\n",
      "        0.02916292,  0.02590051,  0.03069306,  0.02434513,  0.02049461,\n",
      "        0.01947628,  0.03055722,  0.02222014,  0.02018842,  0.05119963,\n",
      "        0.02140388,  0.0323683 ,  0.01714549,  0.02267908,  0.02225409,\n",
      "        0.02432244,  0.02064578,  0.03170446,  0.02967842,  0.02687957,\n",
      "        0.02204228,  0.0205003 ,  0.02632931,  0.0302978 ,  0.02474994,\n",
      "        0.01743048,  0.02380623,  0.02522809,  0.02084135,  0.02288693,\n",
      "        0.02708575,  0.02885797,  0.02482831,  0.02813541,  0.02541325,\n",
      "        0.02128548,  0.02660707,  0.03170544,  0.02343141,  0.0191072 ,\n",
      "        0.02802182,  0.02723889,  0.02768494,  0.02734376,  0.0230623 ,\n",
      "        0.02476558,  0.0244555 ,  0.05860557,  0.03574601,  0.01871057,\n",
      "        0.02852995,  0.01908581,  0.02218542,  0.02551507,  0.04701489,\n",
      "        0.0342907 ,  0.02495133,  0.02181201,  0.02738796,  0.03741193,\n",
      "        0.02481824,  0.02119384,  0.02726242,  0.02851394,  0.02913705,\n",
      "        0.02112594,  0.02092776,  0.03138988,  0.01856439,  0.02473235,\n",
      "        0.0222856 ,  0.03251856,  0.02991714,  0.02167741,  0.02233397,\n",
      "        0.01798568,  0.02011208,  0.02079022,  0.02376904,  0.04265937,\n",
      "        0.03270913,  0.02420878,  0.02662893,  0.02698223,  0.03061223,\n",
      "        0.03465869,  0.01726278,  0.03142464,  0.02255416,  0.0296631 ,\n",
      "        0.02332001,  0.02214962,  0.02583046,  0.01955376,  0.0238261 ,\n",
      "        0.02236022,  0.02483431,  0.02048885,  0.03188076,  0.02870419,\n",
      "        0.03332696,  0.03002585,  0.03354263,  0.02416245,  0.02686419,\n",
      "        0.02991182,  0.02739429,  0.01995191,  0.02104925,  0.02116867,\n",
      "        0.02634855,  0.02230171,  0.03253595,  0.02736587,  0.03098293,\n",
      "        0.02814234,  0.02691837,  0.02537683,  0.02132514,  0.026861  ,\n",
      "        0.02467852,  0.03509294,  0.04559505,  0.03244783,  0.02621738,\n",
      "        0.0253362 ,  0.02368001,  0.01881399,  0.02122017,  0.03655228,\n",
      "        0.02455461,  0.02023804,  0.02544372,  0.02497692,  0.02390289,\n",
      "        0.02432009,  0.02174589,  0.02204566,  0.02379165,  0.03124299,\n",
      "        0.02504225,  0.01794184,  0.02001576,  0.0207939 ,  0.02872284,\n",
      "        0.03410078,  0.02182989,  0.02007168,  0.02054817,  0.02339665,\n",
      "        0.02196827,  0.02497629,  0.02167392,  0.02345353,  0.01998475,\n",
      "        0.02840064,  0.02161598,  0.03321797,  0.02278228,  0.02320355,\n",
      "        0.02208753,  0.02854569,  0.02772661,  0.03072175,  0.02329211]))\n",
      "('movie factors mean', array([  6.45111057e-02,  -7.35308405e-02,  -2.42509046e-01,\n",
      "        -4.73543557e-02,   2.85692184e-02,  -5.90912597e-02,\n",
      "        -1.43597950e-01,  -4.63485951e-02,  -8.11884064e-02,\n",
      "         4.16563136e-02,  -5.08013985e-03,   1.01878011e-01,\n",
      "         1.29258680e-01,   1.10525150e-01,   4.11688346e-02,\n",
      "        -2.46129536e-02,  -1.44060360e-01,   4.22509889e-02,\n",
      "         1.21012175e-01,  -8.14291588e-03,  -1.01173003e-01,\n",
      "         1.15860340e-01,  -2.51037373e-02,   1.96048755e-02,\n",
      "         2.12034068e-02,   2.43630348e-02,   7.28346114e-02,\n",
      "         9.61176343e-02,   2.40130342e-01,   2.22756041e-01,\n",
      "        -2.33235711e-02,  -1.13161702e-02,   1.14291877e-01,\n",
      "        -4.19986862e-02,  -5.74336389e-02,   1.03627524e-01,\n",
      "         5.29351366e-02,  -2.11667113e-02,  -5.40413265e-02,\n",
      "         3.26807824e-02,  -4.15150637e-02,   4.09912440e-02,\n",
      "        -3.54483220e-02,   1.78065909e-02,  -2.11045559e-01,\n",
      "        -2.11296441e-02,   1.06336893e-01,  -9.38972659e-03,\n",
      "         1.20259280e-02,   7.44359374e-03,  -2.44847883e-02,\n",
      "         1.33129285e-02,  -8.84295016e-02,  -4.26294559e-03,\n",
      "         8.02988191e-02,   3.11685526e-02,   1.76103969e-02,\n",
      "         8.52230337e-02,   8.08599835e-02,   6.88053969e-02,\n",
      "         1.31401705e-04,  -5.04319056e-02,   4.47665042e-04,\n",
      "         4.17874768e-02,  -7.24957433e-02,   7.62153062e-02,\n",
      "        -7.13460399e-02,  -7.47975329e-04,  -8.13154442e-02,\n",
      "        -8.28875808e-02,   3.28686630e-02,  -8.52546956e-02,\n",
      "         1.10973481e-01,  -3.08030512e-02,  -3.20347074e-02,\n",
      "         9.13023823e-02,   4.97260976e-02,   2.46274909e-03,\n",
      "        -8.96469267e-02,   1.14353333e-02,   2.87328276e-02,\n",
      "         1.47426016e-02,   1.39049276e-01,  -1.64373813e-01,\n",
      "         1.86952380e-03,   4.34427462e-02,   1.64231297e-02,\n",
      "        -1.06388846e-02,  -2.52031869e-02,  -1.93906795e-01,\n",
      "         1.33471631e-01,  -2.01369451e-02,   4.84718796e-02,\n",
      "         6.48046967e-02,  -1.32084401e-01,   8.41521331e-02,\n",
      "        -1.60537758e-02,  -6.20733141e-02,   9.58531111e-02,\n",
      "        -8.81951585e-02,   7.20809769e-03,  -2.44138873e-03,\n",
      "        -6.10874874e-02,   1.67360680e-02,  -6.77427739e-02,\n",
      "        -1.75864247e-02,   1.39014404e-01,   1.05228389e-01,\n",
      "         1.30987155e-02,  -2.65570041e-02,   3.33988258e-02,\n",
      "         7.88774994e-03,   2.72838017e-02,   1.46975497e-02,\n",
      "         1.72517208e-01,   6.97457106e-02,   8.27075596e-02,\n",
      "        -6.14138586e-02,  -6.41973407e-02,  -1.15166390e-01,\n",
      "         6.10704193e-02,   2.98417655e-02,   1.06379903e-01,\n",
      "        -7.65679451e-04,  -1.04920395e-01,  -4.18548028e-02,\n",
      "        -4.68029298e-02,  -6.14804739e-02,  -9.63690284e-03,\n",
      "        -8.58658771e-02,  -6.59224069e-02,  -4.00772761e-02,\n",
      "        -9.74766693e-03,   7.81306276e-02,  -9.85226800e-02,\n",
      "        -1.47550123e-01,  -9.94355131e-02,  -9.80531957e-04,\n",
      "         9.00653538e-02,  -4.15734380e-02,   1.12749034e-01,\n",
      "         5.56810075e-02,   1.32952224e-03,   3.55373306e-02,\n",
      "        -1.61407388e-02,  -7.34043716e-02,  -3.94181400e-02,\n",
      "         1.36586699e-01,  -8.22598380e-02,  -4.65446033e-03,\n",
      "        -1.20381930e-01,  -1.34598921e-02,   4.91756328e-02,\n",
      "         3.55025575e-02,   1.93961094e-02,   9.80313516e-02,\n",
      "        -1.44922047e-01,   1.46752585e-01,  -1.10787747e-01,\n",
      "        -5.98365205e-02,  -5.16211653e-02,   1.87940836e-02,\n",
      "         3.06815300e-03,  -1.19808559e-02,  -1.16025713e-01,\n",
      "         7.34250515e-02,  -1.08757030e-03,   6.29596174e-02,\n",
      "        -8.14665847e-02,  -3.59921990e-02,  -8.19129799e-02,\n",
      "         6.99867159e-02,   2.53447056e-02,  -5.26400733e-02,\n",
      "        -9.20966538e-02,   1.04222283e-01,  -1.99852216e-02,\n",
      "        -2.58206321e-02,  -4.42925191e-02,  -5.24529748e-02,\n",
      "         1.13988727e-01,  -3.57275968e-02,   5.01112989e-02,\n",
      "        -3.88586628e-02,  -1.61227976e-02,   3.80587443e-02,\n",
      "         3.47638136e-02,  -1.20648224e-02,  -6.69463148e-02,\n",
      "        -6.82582394e-03,  -9.66702899e-02,  -3.15643180e-02,\n",
      "        -9.71173769e-02,   1.33517096e-03,   3.82661496e-02,\n",
      "        -5.94794187e-02,  -9.63541263e-02,  -1.13028069e-02,\n",
      "         1.05997495e-01,   4.57950951e-02]))\n",
      "('movie factors variance', array([ 0.02597417,  0.02318183,  0.02577366,  0.02115713,  0.02367866,\n",
      "        0.02135226,  0.02267124,  0.02471518,  0.02142683,  0.02178311,\n",
      "        0.02035149,  0.02524898,  0.02286246,  0.01908913,  0.02391353,\n",
      "        0.0253381 ,  0.02558255,  0.02166268,  0.0314405 ,  0.02301534,\n",
      "        0.02702703,  0.02150507,  0.02122851,  0.02441268,  0.0264025 ,\n",
      "        0.02366101,  0.02359841,  0.02532368,  0.02288883,  0.02472961,\n",
      "        0.02389487,  0.0267633 ,  0.0234714 ,  0.02546781,  0.02704909,\n",
      "        0.02209109,  0.02354705,  0.02971265,  0.02631634,  0.02054674,\n",
      "        0.02003487,  0.02943549,  0.02407726,  0.02399256,  0.02374717,\n",
      "        0.02306917,  0.0226965 ,  0.01757392,  0.02641369,  0.02349172,\n",
      "        0.0253815 ,  0.0223614 ,  0.02705501,  0.02891214,  0.02492316,\n",
      "        0.0235036 ,  0.02292447,  0.02499802,  0.02571142,  0.02197657,\n",
      "        0.02018243,  0.02331721,  0.02600344,  0.02401847,  0.02107616,\n",
      "        0.02208631,  0.02866483,  0.02496535,  0.02500577,  0.02468814,\n",
      "        0.02419595,  0.02335265,  0.02555826,  0.02602958,  0.02113586,\n",
      "        0.02463754,  0.02616873,  0.02515576,  0.02356556,  0.02577126,\n",
      "        0.02593276,  0.02454614,  0.02935353,  0.01846393,  0.02250249,\n",
      "        0.02698386,  0.02179932,  0.0244344 ,  0.02252166,  0.03116191,\n",
      "        0.02192748,  0.0267362 ,  0.02071522,  0.02490046,  0.02596819,\n",
      "        0.02165167,  0.02831479,  0.02684368,  0.02295013,  0.02844652,\n",
      "        0.02243856,  0.02467015,  0.02800374,  0.02274803,  0.02298331,\n",
      "        0.0246568 ,  0.02248859,  0.02476534,  0.02387142,  0.02340836,\n",
      "        0.0220527 ,  0.02437663,  0.02258276,  0.02473941,  0.02438608,\n",
      "        0.02374843,  0.02217648,  0.02273922,  0.0232206 ,  0.02368351,\n",
      "        0.02692066,  0.01960742,  0.02387949,  0.02330418,  0.02353211,\n",
      "        0.02546577,  0.02196302,  0.02453117,  0.02244779,  0.02351653,\n",
      "        0.02271737,  0.02431101,  0.02262057,  0.02557314,  0.02231965,\n",
      "        0.02052218,  0.02323832,  0.02882747,  0.02150562,  0.02626844,\n",
      "        0.02715644,  0.02608225,  0.02300462,  0.02598936,  0.02296197,\n",
      "        0.02422012,  0.02340659,  0.02356139,  0.0240911 ,  0.02703536,\n",
      "        0.01890879,  0.02812421,  0.02566796,  0.02182316,  0.02858616,\n",
      "        0.02167596,  0.02491104,  0.025858  ,  0.02756226,  0.0257359 ,\n",
      "        0.02638644,  0.0264571 ,  0.02134582,  0.02451528,  0.02656712,\n",
      "        0.02208771,  0.0212984 ,  0.02547111,  0.02509992,  0.02399102,\n",
      "        0.02179435,  0.0227809 ,  0.02471894,  0.0239974 ,  0.02562953,\n",
      "        0.01928945,  0.0210488 ,  0.02245344,  0.0221206 ,  0.02504742,\n",
      "        0.02410925,  0.02539946,  0.01966809,  0.02145069,  0.02660101,\n",
      "        0.02606418,  0.02514816,  0.02297898,  0.0221267 ,  0.02127044,\n",
      "        0.02320547,  0.02213031,  0.02688515,  0.02526064,  0.0241494 ,\n",
      "        0.02263522,  0.02219068,  0.02715296,  0.02514853,  0.02173329]))"
     ]
    }
   ],
   "source": [
    "from pyspark.mllib.linalg.distributed import RowMatrix\n",
    "movieMatrix = RowMatrix(movieVectors)\n",
    "movieMatrixSummary = movieMatrix.computeColumnSummaryStatistics()\n",
    "userMatrix = RowMatrix(userVectors)\n",
    "userMatrixSummary = userMatrix.computeColumnSummaryStatistics()\n",
    "print('movie factors mean', movieMatrixSummary.mean())\n",
    "print('movie factors variance', movieMatrixSummary.variance())\n",
    "print('movie factors mean', userMatrixSummary.mean())\n",
    "print('movie factors variance', userMatrixSummary.variance())"
   ]
  },
  {
   "cell_type": "markdown",
   "metadata": {},
   "source": [
    "# Training a clustering model"
   ]
  },
  {
   "cell_type": "markdown",
   "metadata": {},
   "source": [
    "## Training a clustering model on the MovieLens dataset"
   ]
  },
  {
   "cell_type": "code",
   "execution_count": 9,
   "metadata": {
    "collapsed": true
   },
   "outputs": [],
   "source": [
    "from pyspark.mllib.clustering import KMeans\n",
    "numClusters = 5\n",
    "numIterations = 10\n",
    "numRuns = 100\n",
    "\n",
    "movieClusterModel = KMeans.train(movieVectors, numClusters, numRuns)\n",
    "userClusterModel = KMeans.train(userVectors, numClusters, numRuns)"
   ]
  },
  {
   "cell_type": "markdown",
   "metadata": {},
   "source": [
    "## Making predictions using a clustering model"
   ]
  },
  {
   "cell_type": "code",
   "execution_count": 10,
   "metadata": {},
   "outputs": [
    {
     "name": "stdout",
     "output_type": "stream",
     "text": [
      "2\n"
     ]
    }
   ],
   "source": [
    "movie1 = movieVectors.first()\n",
    "movieCluster = movieClusterModel.predict(movie1)\n",
    "print(movieCluster)"
   ]
  },
  {
   "cell_type": "code",
   "execution_count": 11,
   "metadata": {},
   "outputs": [
    {
     "name": "stdout",
     "output_type": "stream",
     "text": [
      "[2, 2, 3, 2, 1, 4, 4, 2, 1, 4]\n"
     ]
    }
   ],
   "source": [
    "predictions = movieClusterModel.predict(movieVectors)\n",
    "print(predictions.take(10))"
   ]
  },
  {
   "cell_type": "markdown",
   "metadata": {},
   "source": [
    "## Interpreting cluster predictions on the MovieLens dataset"
   ]
  },
  {
   "cell_type": "code",
   "execution_count": 12,
   "metadata": {
    "scrolled": true
   },
   "outputs": [
    {
     "name": "stdout",
     "output_type": "stream",
     "text": [
      "(1540, ((u'Amazing Panda Adventure, The (1995)', (u'Adventure', u\"Children's\")), DenseVector([0.234, -0.2199, -0.5585, 0.2199, -0.0496, 0.0459, -0.4296, -0.0749, -0.0467, 0.0349, -0.1858, 0.1342, 0.0666, 0.2118, -0.0681, 0.1427, -0.5221, 0.0186, -0.0265, -0.221, -0.216, 0.1894, -0.1392, 0.2243, -0.0098, 0.0178, 0.0451, -0.0718, 0.3665, 0.3728, -0.075, -0.0225, 0.0587, 0.0456, 0.2062, 0.1332, 0.3274, 0.0906, -0.0385, -0.0546, 0.0008, -0.0454, -0.0351, 0.0521, -0.2825, 0.2131, 0.182, 0.0201, -0.1137, -0.0585, -0.1132, 0.1397, 0.004, -0.2206, 0.2745, 0.1547, 0.0268, 0.0687, 0.1379, 0.0902, 0.0335, -0.2444, -0.0138, 0.1482, -0.1185, 0.1155, -0.0707, -0.1499, -0.2697, 0.1059, -0.1956, -0.065, 0.2094, -0.1402, 0.0313, 0.1448, 0.0099, -0.0958, -0.0858, 0.1401, -0.0989, 0.0866, 0.235, -0.2522, -0.0274, 0.143, -0.0521, 0.0342, 0.0183, -0.2108, 0.2349, 0.0166, 0.0751, 0.0947, -0.256, 0.011, 0.0009, 0.0605, 0.0853, -0.1887, 0.0327, 0.0699, -0.2483, 0.1679, 0.1062, -0.0733, 0.2747, 0.2443, 0.0097, 0.0485, 0.0857, 0.2981, 0.1194, 0.0724, 0.2734, 0.3512, -0.0207, -0.1146, -0.1334, -0.1766, -0.1353, 0.0191, -0.0188, -0.0424, -0.1538, 0.1117, -0.2023, -0.0851, -0.127, 0.0538, -0.1818, -0.1176, -0.048, 0.3442, -0.0447, -0.0092, -0.1999, 0.0041, 0.2192, 0.1155, 0.2946, -0.0027, 0.0329, 0.1592, 0.1028, 0.0127, -0.2845, 0.2381, -0.035, -0.1404, -0.1607, -0.2023, 0.041, 0.0154, -0.0245, 0.0156, -0.1589, 0.2522, 0.0195, 0.0533, -0.3699, 0.2174, -0.2766, 0.018, -0.2921, 0.2162, -0.0283, 0.2731, -0.3624, 0.1387, -0.0092, 0.1331, -0.0486, 0.0289, -0.0569, 0.1951, -0.0342, -0.0865, 0.0016, -0.1408, 0.1086, -0.0967, -0.135, -0.117, -0.0788, 0.0084, -0.0173, -0.0238, -0.1321, -0.281, -0.2629, -0.045, -0.3689, 0.0155, -0.0583, -0.2696, -0.182, -0.1772, 0.0813, 0.1253])))\n"
     ]
    }
   ],
   "source": [
    "titleAndFactors = titlesAndGenres.join(movieFactors)\n",
    "print(titleAndFactors.first())"
   ]
  },
  {
   "cell_type": "code",
   "execution_count": 13,
   "metadata": {
    "scrolled": false
   },
   "outputs": [
    {
     "name": "stdout",
     "output_type": "stream",
     "text": [
      "(1540, u'Amazing Panda Adventure, The (1995)', u\"Adventure Children's\", 3, 3.0427364600596549)\n"
     ]
    }
   ],
   "source": [
    "import numpy as np\n",
    "def clusterMovie(record):\n",
    "    id = record[0]\n",
    "    title, genres = record[1][0]\n",
    "    v1 = record[1][1]\n",
    "    pred = movieClusterModel.predict(v1)\n",
    "    v2 = movieClusterModel.clusterCenters[pred]\n",
    "    dist = np.power(v1 - v2, 2).sum()\n",
    "    return (id, title, ' '.join(genres), pred, dist)\n",
    "clusteredMovies = titleAndFactors.map(clusterMovie)\n",
    "print(clusteredMovies.first())"
   ]
  },
  {
   "cell_type": "code",
   "execution_count": 14,
   "metadata": {
    "scrolled": false
   },
   "outputs": [
    {
     "name": "stdout",
     "output_type": "stream",
     "text": [
      "{0: <pyspark.resultiterable.ResultIterable object at 0x7f5169bb1550>, 1: <pyspark.resultiterable.ResultIterable object at 0x7f5169c19390>, 2: <pyspark.resultiterable.ResultIterable object at 0x7f5169bb1d90>, 3: <pyspark.resultiterable.ResultIterable object at 0x7f5169c0add0>, 4: <pyspark.resultiterable.ResultIterable object at 0x7f5169bb6b10>}\n"
     ]
    }
   ],
   "source": [
    "clusterAssignments = clusteredMovies.groupBy(lambda r:r[3]).collectAsMap()\n",
    "print(clusterAssignments)"
   ]
  },
  {
   "cell_type": "code",
   "execution_count": 15,
   "metadata": {
    "scrolled": true
   },
   "outputs": [
    {
     "name": "stdout",
     "output_type": "stream",
     "text": [
      "cluster 0\n",
      "(439, u'Amityville: A New Generation (1993)', u'Horror', 0, 0.24283231812956452)\n",
      "(437, u\"Amityville 1992: It's About Time (1992)\", u'Horror', 0, 0.24283231812956452)\n",
      "(858, u'Amityville: Dollhouse (1996)', u'Horror', 0, 0.24876935180846005)\n",
      "(1659, u'Getting Away With Murder (1996)', u'Comedy', 0, 0.27014749792514103)\n",
      "(1678, u\"Mat' i syn (1997)\", u'Drama', 0, 0.27357245255136109)\n",
      "(1308, u'Babyfever (1994)', u'Comedy Drama', 0, 0.276010587124352)\n",
      "(599, u'Police Story 4: Project S (Chao ji ji hua) (1993)', u'Action', 0, 0.2763828655522782)\n",
      "(1408, u'Gordy (1995)', u'Comedy', 0, 0.28295344087708019)\n",
      "(784, u'Beyond Bedlam (1993)', u'Drama Horror', 0, 0.28398255013035545)\n",
      "(1621, u'Butterfly Kiss (1995)', u'Thriller', 0, 0.29291435336393407)\n",
      "\n",
      "\n",
      "cluster 1\n",
      "(1124, u'Farewell to Arms, A (1932)', u'Romance War', 1, 2.4876754639703824)\n",
      "(617, u'Blue Angel, The (Blaue Engel, Der) (1930)', u'Drama', 1, 2.5302594012278812)\n",
      "(608, u'Spellbound (1945)', u'Mystery Romance Thriller', 1, 2.5893710231435563)\n",
      "(1211, u'Blue Sky (1994)', u'Drama Romance', 1, 2.7315690712414602)\n",
      "(533, u'Daytrippers, The (1996)', u'Mystery', 1, 2.7517291425388777)\n",
      "(714, u'Carrington (1995)', u'Drama Romance', 1, 2.7870688734482711)\n",
      "(811, u'Thirty-Two Short Films About Glenn Gould (1993)', u'Documentary', 1, 2.7904137397391171)\n",
      "(1451, u'Foreign Correspondent (1940)', u'Thriller', 1, 2.8188373739251311)\n",
      "(1226, u'Night Falls on Manhattan (1997)', u'Crime Drama', 1, 2.8711411542993011)\n",
      "(587, u'Hour of the Pig, The (1993)', u'Drama Mystery', 1, 2.8817826922707748)\n",
      "\n",
      "\n",
      "cluster 2\n",
      "(837, u'Meet John Doe (1941)', u'Drama', 2, 3.1678646291651571)\n",
      "(612, u'Lost Horizon (1937)', u'Drama', 2, 3.2013064296093616)\n",
      "(963, u'Some Folks Call It a Sling Blade (1993)', u'Drama Thriller', 2, 3.3889046472018469)\n",
      "(966, u'Affair to Remember, An (1957)', u'Romance', 2, 3.6047368980007817)\n",
      "(490, u'To Catch a Thief (1955)', u'Comedy Romance Thriller', 2, 3.6515283840823467)\n",
      "(500, u'Fly Away Home (1996)', u\"Adventure Children's\", 2, 3.7298001225293556)\n",
      "(614, u'Giant (1956)', u'Drama', 2, 3.7601312275561449)\n",
      "(1197, u'Family Thing, A (1996)', u'Comedy Drama', 2, 3.8467827121860383)\n",
      "(141, u'20,000 Leagues Under the Sea (1954)', u\"Adventure Children's Fantasy Sci-Fi\", 2, 3.9534371492316378)\n",
      "(601, u'For Whom the Bell Tolls (1943)', u'Adventure War', 2, 4.0415317196727294)\n",
      "\n",
      "\n",
      "cluster 3\n",
      "(1437, u'House Party 3 (1994)', u'Comedy', 3, 1.3747963818028393)\n",
      "(803, u'Heaven & Earth (1993)', u'Action Drama War', 3, 1.3786050811729325)\n",
      "(1274, u'Robocop 3 (1993)', u'Sci-Fi Thriller', 3, 1.4007973932723923)\n",
      "(545, u'Vampire in Brooklyn (1995)', u'Comedy Romance', 3, 1.4536721890820565)\n",
      "(1151, u'Original Gangstas (1996)', u'Crime', 3, 1.489140474667769)\n",
      "(1416, u'No Escape (1994)', u'Action Sci-Fi', 3, 1.5307572681910262)\n",
      "(1213, u'Guilty as Sin (1993)', u'Crime Drama Thriller', 3, 1.550529511072303)\n",
      "(1076, u'Pagemaster, The (1994)', u\"Action Adventure Animation Children's Fantasy\", 3, 1.5607870956559184)\n",
      "(1182, u'Cops and Robbersons (1994)', u'Comedy', 3, 1.5879395570738415)\n",
      "(1083, u'Albino Alligator (1996)', u'Crime Thriller', 3, 1.6074065284902064)\n",
      "\n",
      "\n",
      "cluster 4(1248, u'Blink (1994)', u'Thriller', 4, 1.8330208618077868)\n",
      "(801, u'Air Up There, The (1994)', u'Comedy', 4, 1.8575838890693741)\n",
      "(1249, u'For Love or Money (1993)', u'Comedy', 4, 2.2194354398824712)\n",
      "(1285, u'Princess Caraboo (1994)', u'Drama', 4, 2.3278492381824076)\n",
      "(1518, u'Losing Isaiah (1995)', u'Drama', 4, 2.3410387113344795)\n",
      "(415, u'Apple Dumpling Gang, The (1975)', u\"Children's Comedy Western\", 4, 2.3526786867927481)\n",
      "(1055, u'Simple Twist of Fate, A (1994)', u'Drama', 4, 2.5119737530427444)\n",
      "(996, u'Big Green, The (1995)', u\"Children's Comedy\", 4, 2.582685788480692)\n",
      "(1237, u'Twisted (1996)', u'Comedy Drama', 4, 2.6018830452381585)\n",
      "(1190, u'That Old Feeling (1997)', u'Comedy Romance', 4, 2.611814665185515)\n",
      "\n",
      "\n"
     ]
    }
   ],
   "source": [
    "for k, v in clusterAssignments.items():\n",
    "    print('cluster {0}'.format(k))\n",
    "    sortedMovie = sc.parallelize(list(v)).sortBy(lambda r:r[4])\n",
    "    for record in sortedMovie.take(10):\n",
    "        print(record)\n",
    "    print('\\n')"
   ]
  },
  {
   "cell_type": "markdown",
   "metadata": {},
   "source": [
    "# Evaluating the performance of clustering models"
   ]
  },
  {
   "cell_type": "markdown",
   "metadata": {},
   "source": [
    "Internal evaluation refers to the case where the same data used to train the model is used for evaluation. \n",
    "External evaluation refers to using data external to the training data for\n",
    "evaluation purposes"
   ]
  },
  {
   "cell_type": "markdown",
   "metadata": {},
   "source": [
    "## Internal evaluation metrics"
   ]
  },
  {
   "cell_type": "markdown",
   "metadata": {},
   "source": [
    "Common internal evaluation metrics include the **within cluster sum of squared errors**(WCSS) we covered earlier (which is\n",
    "exactly the K-means objective function), the Davies-Bouldin index, the Dunn Index,\n",
    "and the silhouette coeffcient. All these measures tend to reward clusters where\n",
    "elements within a cluster are relatively close together, while elements in different\n",
    "clusters are relatively far away from each other.\n",
    "\n",
    "See:https://en.wikipedia.org/wiki/Cluster_analysis#Internal_evaluation"
   ]
  },
  {
   "cell_type": "markdown",
   "metadata": {},
   "source": [
    "## External evaluation metrics"
   ]
  },
  {
   "cell_type": "markdown",
   "metadata": {},
   "source": [
    "Since clustering can be thought of as unsupervised classifcation, if we have some\n",
    "form of labeled (or partially labeled) data available, we could use these labels to\n",
    "evaluate a clustering model. We can make predictions of clusters (that is, the class\n",
    "labels) using the model and evaluate the predictions against the true labels using\n",
    "metrics similar to some that we saw for classifcation evaluation (that is, based on\n",
    "true positive and negative and false positive and negative rates).\n",
    "These include the Rand measure, F-measure, Jaccard index, and others.\n",
    "\n",
    "See： https://en.wikipedia.org/wiki/Cluster_analysis#External_evaluation"
   ]
  },
  {
   "cell_type": "markdown",
   "metadata": {},
   "source": [
    "## Computing performance metrics on the MovieLens dataset"
   ]
  },
  {
   "cell_type": "code",
   "execution_count": 16,
   "metadata": {
    "scrolled": true
   },
   "outputs": [
    {
     "name": "stdout",
     "output_type": "stream",
     "text": [
      "('WCSS for movies', 7225.765996352291)\n",
      "('WCSS for users', 4330.977086110632)\n"
     ]
    }
   ],
   "source": [
    "movieCost = movieClusterModel.computeCost(movieVectors)\n",
    "userCost = userClusterModel.computeCost(userVectors)\n",
    "print('WCSS for movies', movieCost)\n",
    "print('WCSS for users', userCost)"
   ]
  },
  {
   "cell_type": "markdown",
   "metadata": {},
   "source": [
    "# Tuning parameters for clustering models"
   ]
  },
  {
   "cell_type": "markdown",
   "metadata": {},
   "source": [
    "## Selecting K through cross-validation"
   ]
  },
  {
   "cell_type": "code",
   "execution_count": 31,
   "metadata": {},
   "outputs": [
    {
     "name": "stdout",
     "output_type": "stream",
     "text": [
      "2 clusters, WCSS 3185.05663453\n",
      "3 clusters, WCSS 3064.85163573\n",
      "4 clusters, WCSS 3015.1151521\n",
      "6 clusters, WCSS 2940.19717096\n"
     ]
    }
   ],
   "source": [
    "trainMovies, testMovies = movieVectors.randomSplit([0.6, 0.4], seed = 123)\n",
    "\n",
    "numRuns = 20\n",
    "K = [2, 3, 4, 6]\n",
    "for k in K:\n",
    "    loss = KMeans.train(trainMovies, k, numRuns).computeCost(testMovies)\n",
    "    print('{0} clusters, WCSS {1}'.format(k, loss))"
   ]
  }
 ],
 "metadata": {
  "kernelspec": {
   "display_name": "Apache Toree - PySpark",
   "language": "python",
   "name": "apache_toree_pyspark"
  },
  "language_info": {
   "codemirror_mode": "text/x-ipython",
   "file_extension": ".py",
   "mimetype": "text/x-ipython",
   "name": "python",
   "pygments_lexer": "python",
   "version": "2.7.11\n"
  }
 },
 "nbformat": 4,
 "nbformat_minor": 2
}
