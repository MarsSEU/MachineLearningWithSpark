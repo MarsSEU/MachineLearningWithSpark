{
 "cells": [
  {
   "cell_type": "code",
   "execution_count": 1,
   "metadata": {
    "collapsed": true
   },
   "outputs": [],
   "source": [
    "# SparkContext is already defined as sc\n",
    "HDFS = 'hdfs://scut0:9000/'"
   ]
  },
  {
   "cell_type": "markdown",
   "metadata": {},
   "source": [
    "# Extracting the right features from your data"
   ]
  },
  {
   "cell_type": "markdown",
   "metadata": {},
   "source": [
    "## Introduction to Feature hashing"
   ]
  },
  {
   "cell_type": "markdown",
   "metadata": {},
   "source": [
    "Feature hashing is a technique to deal with **high-dimensional data** and is often **used with text and categorical datasets** where the features can take on many unique values (often many millions of values)\n",
    "\n",
    "Up until now, we have often used a simple approach of collecting the distinct feature values and zipping this collection with\n",
    "a set of indices to create a map of feature value to index. This mapping is then\n",
    "broadcast (either explicitly in our code or implicitly by Spark) to each worker.\n",
    "\n",
    "When dealing with huge feature dimensions in the tens of millions or more\n",
    "that are common when working with text, this approach can be slow and can require\n",
    "signifcant memory and network resources, both on the Spark master (to collect the\n",
    "unique values) and workers (to broadcast the resulting mapping to each worker,\n",
    "which keeps it in memory to allow it to apply the feature encoding to its local piece\n",
    "of the input data)\n",
    "\n",
    "\n",
    "Also, building and using 1-of-K feature encoding requires us to keep a mapping of each possible feature value to an index in a vector. Furthermore, the process of creating the mapping itself requires at least one additional pass through the dataset and can be tricky to do in parallel scenarios.\n",
    "\n",
    "\n",
    "**Feature hashing works by assigning the vector index for a feature based on the value obtained by hashing this feature to a number (usually, an integer value) using a hash function. **\n",
    "\n",
    "This encoding works the same way as mapping-based encoding, except that we choose a size for our feature vector upfront.\n",
    "\n",
    "Feature hashing has the advantage that we do not need to build a mapping and keep it in memory. It is also easy to implement, very fast, and can be done online and in real time, thus not requiring a pass through our dataset frst. \n",
    "\n",
    "However, there are two important drawbacks\n",
    "\n",
    "1. As we don't create a mapping of features to index values, we also cannot do\n",
    "the reverse mapping of feature index to value. This makes it harder to, for\n",
    "example, determine which features are most informative in our models.\n",
    "\n",
    "2. As we are restricting the size of our feature vectors, we might experience\n",
    "hash collisions. This happens when two different features are hashed into\n",
    "the same index in our feature vector. **Surprisingly, this doesn't seem to have\n",
    "a severe impact on model performance as long as we choose a reasonable\n",
    "feature vector dimension relative to the dimension of the input data**\n"
   ]
  },
  {
   "cell_type": "markdown",
   "metadata": {},
   "source": [
    "## Extracting the TF-IDF features from the 20 Newsgroups dataset"
   ]
  },
  {
   "cell_type": "markdown",
   "metadata": {},
   "source": [
    "To illustrate the concepts in this chapter, we will use a well-known text dataset called\n",
    "20 Newsgroups; this dataset is commonly used for text-classifcation tasks. This is a\n",
    "collection of newsgroup messages posted across 20 different topics. There are various\n",
    "forms of data available. For our purposes, we will use the bydate version of the\n",
    "dataset, which is available at http://qwone.com/~jason/20Newsgroups."
   ]
  },
  {
   "cell_type": "markdown",
   "metadata": {},
   "source": [
    "### Exploring the 20 Newsgroups data"
   ]
  },
  {
   "cell_type": "code",
   "execution_count": 2,
   "metadata": {
    "scrolled": true
   },
   "outputs": [
    {
     "name": "stdout",
     "output_type": "stream",
     "text": [
      "19997\n",
      "(u'hdfs://scut0:9000/20_newsgroup/alt.atheism/49960', u'Xref: cantaloupe.srv.cs.cmu.edu alt.atheism:49960 alt.atheism.moderated:713 news.answers:7054 alt.answers:126\\nPath: cantaloupe.srv.cs.cmu.edu!crabapple.srv.cs.cmu.edu!bb3.andrew.cmu.edu!news.sei.cmu.edu!cis.ohio-state.edu!magnus.acs.ohio-state.edu!usenet.ins.cwru.edu!agate!spool.mu.edu!uunet!pipex!ibmpcug!mantis!mathew\\nFrom: mathew <mathew@mantis.co.uk>\\nNewsgroups: alt.atheism,alt.atheism.moderated,news.answers,alt.answers\\nSubject: Alt.Atheism FAQ: Atheist Resources\\nSummary: Books, addresses, music -- anything related to atheism\\nKeywords: FAQ, atheism, books, music, fiction, addresses, contacts\\nMessage-ID: <19930329115719@mantis.co.uk>\\nDate: Mon, 29 Mar 1993 11:57:19 GMT\\nExpires: Thu, 29 Apr 1993 11:57:19 GMT\\nFollowup-To: alt.atheism\\nDistribution: world\\nOrganization: Mantis Consultants, Cambridge. UK.\\nApproved: news-answers-request@mit.edu\\nSupersedes: <19930301143317@mantis.co.uk>\\nLines: 290\\n\\nArchive-name: atheism/resources\\nAlt-atheism-archive-name: resources\\nLast-modified: 11 December 1992\\nVersion: 1.0\\n\\n                              Atheist Resources\\n\\n                      Addresses of Atheist Organizations\\n\\n                                     USA\\n\\nFREEDOM FROM RELIGION FOUNDATION\\n\\nDarwin fish bumper stickers and assorted other atheist paraphernalia are\\navailable from the Freedom From Religion Foundation in the US.\\n\\nWrite to:  FFRF, P.O. Box 750, Madison, WI 53701.\\nTelephone: (608) 256-8900\\n\\nEVOLUTION DESIGNS\\n\\nEvolution Designs sell the \"Darwin fish\".  It\\'s a fish symbol, like the ones\\nChristians stick on their cars, but with feet and the word \"Darwin\" written\\ninside.  The deluxe moulded 3D plastic fish is $4.95 postpaid in the US.\\n\\nWrite to:  Evolution Designs, 7119 Laurel Canyon #4, North Hollywood,\\n           CA 91605.\\n\\nPeople in the San Francisco Bay area can get Darwin Fish from Lynn Gold --\\ntry mailing <figmo@netcom.com>.  For net people who go to Lynn directly, the\\nprice is $4.95 per fish.\\n\\nAMERICAN ATHEIST PRESS\\n\\nAAP publish various atheist books -- critiques of the Bible, lists of\\nBiblical contradictions, and so on.  One such book is:\\n\\n\"The Bible Handbook\" by W.P. Ball and G.W. Foote.  American Atheist Press.\\n372 pp.  ISBN 0-910309-26-4, 2nd edition, 1986.  Bible contradictions,\\nabsurdities, atrocities, immoralities... contains Ball, Foote: \"The Bible\\nContradicts Itself\", AAP.  Based on the King James version of the Bible.\\n\\nWrite to:  American Atheist Press, P.O. Box 140195, Austin, TX 78714-0195.\\n      or:  7215 Cameron Road, Austin, TX 78752-2973.\\nTelephone: (512) 458-1244\\nFax:       (512) 467-9525\\n\\nPROMETHEUS BOOKS\\n\\nSell books including Haught\\'s \"Holy Horrors\" (see below).\\n\\nWrite to:  700 East Amherst Street, Buffalo, New York 14215.\\nTelephone: (716) 837-2475.\\n\\nAn alternate address (which may be newer or older) is:\\nPrometheus Books, 59 Glenn Drive, Buffalo, NY 14228-2197.\\n\\nAFRICAN-AMERICANS FOR HUMANISM\\n\\nAn organization promoting black secular humanism and uncovering the history of\\nblack freethought.  They publish a quarterly newsletter, AAH EXAMINER.\\n\\nWrite to:  Norm R. Allen, Jr., African Americans for Humanism, P.O. Box 664,\\n           Buffalo, NY 14226.\\n\\n                                United Kingdom\\n\\nRationalist Press Association          National Secular Society\\n88 Islington High Street               702 Holloway Road\\nLondon N1 8EW                          London N19 3NL\\n071 226 7251                           071 272 1266\\n\\nBritish Humanist Association           South Place Ethical Society\\n14 Lamb\\'s Conduit Passage              Conway Hall\\nLondon WC1R 4RH                        Red Lion Square\\n071 430 0908                           London WC1R 4RL\\nfax 071 430 1271                       071 831 7723\\n\\nThe National Secular Society publish \"The Freethinker\", a monthly magazine\\nfounded in 1881.\\n\\n                                   Germany\\n\\nIBKA e.V.\\nInternationaler Bund der Konfessionslosen und Atheisten\\nPostfach 880, D-1000 Berlin 41. Germany.\\n\\nIBKA publish a journal:\\nMIZ. (Materialien und Informationen zur Zeit. Politisches\\nJournal der Konfessionslosesn und Atheisten. Hrsg. IBKA e.V.)\\nMIZ-Vertrieb, Postfach 880, D-1000 Berlin 41. Germany.\\n\\nFor atheist books, write to:\\n\\nIBDK, Internationaler B\"ucherdienst der Konfessionslosen\\nPostfach 3005, D-3000 Hannover 1. Germany.\\nTelephone: 0511/211216\\n\\n\\n                               Books -- Fiction\\n\\nTHOMAS M. DISCH\\n\\n\"The Santa Claus Compromise\"\\nShort story.  The ultimate proof that Santa exists.  All characters and \\nevents are fictitious.  Any similarity to living or dead gods -- uh, well...\\n\\nWALTER M. MILLER, JR\\n\\n\"A Canticle for Leibowitz\"\\nOne gem in this post atomic doomsday novel is the monks who spent their lives\\ncopying blueprints from \"Saint Leibowitz\", filling the sheets of paper with\\nink and leaving white lines and letters.\\n\\nEDGAR PANGBORN\\n\\n\"Davy\"\\nPost atomic doomsday novel set in clerical states.  The church, for example,\\nforbids that anyone \"produce, describe or use any substance containing...\\natoms\". \\n\\nPHILIP K. DICK\\n\\nPhilip K. Dick Dick wrote many philosophical and thought-provoking short \\nstories and novels.  His stories are bizarre at times, but very approachable.\\nHe wrote mainly SF, but he wrote about people, truth and religion rather than\\ntechnology.  Although he often believed that he had met some sort of God, he\\nremained sceptical.  Amongst his novels, the following are of some relevance:\\n\\n\"Galactic Pot-Healer\"\\nA fallible alien deity summons a group of Earth craftsmen and women to a\\nremote planet to raise a giant cathedral from beneath the oceans.  When the\\ndeity begins to demand faith from the earthers, pot-healer Joe Fernwright is\\nunable to comply.  A polished, ironic and amusing novel.\\n\\n\"A Maze of Death\"\\nNoteworthy for its description of a technology-based religion.\\n\\n\"VALIS\"\\nThe schizophrenic hero searches for the hidden mysteries of Gnostic\\nChristianity after reality is fired into his brain by a pink laser beam of\\nunknown but possibly divine origin.  He is accompanied by his dogmatic and\\ndismissively atheist friend and assorted other odd characters.\\n\\n\"The Divine Invasion\"\\nGod invades Earth by making a young woman pregnant as she returns from\\nanother star system.  Unfortunately she is terminally ill, and must be\\nassisted by a dead man whose brain is wired to 24-hour easy listening music.\\n\\nMARGARET ATWOOD\\n\\n\"The Handmaid\\'s Tale\"\\nA story based on the premise that the US Congress is mysteriously\\nassassinated, and fundamentalists quickly take charge of the nation to set it\\n\"right\" again.  The book is the diary of a woman\\'s life as she tries to live\\nunder the new Christian theocracy.  Women\\'s right to own property is revoked,\\nand their bank accounts are closed; sinful luxuries are outlawed, and the\\nradio is only used for readings from the Bible.  Crimes are punished\\nretroactively: doctors who performed legal abortions in the \"old world\" are\\nhunted down and hanged.  Atwood\\'s writing style is difficult to get used to\\nat first, but the tale grows more and more chilling as it goes on.\\n\\nVARIOUS AUTHORS\\n\\n\"The Bible\"\\nThis somewhat dull and rambling work has often been criticized.  However, it\\nis probably worth reading, if only so that you\\'ll know what all the fuss is\\nabout.  It exists in many different versions, so make sure you get the one\\ntrue version.\\n\\n                             Books -- Non-fiction\\n\\nPETER DE ROSA\\n\\n\"Vicars of Christ\", Bantam Press, 1988\\nAlthough de Rosa seems to be Christian or even Catholic this is a very\\nenlighting history of papal immoralities, adulteries, fallacies etc.\\n(German translation: \"Gottes erste Diener. Die dunkle Seite des Papsttums\",\\nDroemer-Knaur, 1989)\\n\\nMICHAEL MARTIN\\n\\n\"Atheism: A Philosophical Justification\", Temple University Press,\\n Philadelphia, USA.\\nA detailed and scholarly justification of atheism.  Contains an outstanding\\nappendix defining terminology and usage in this (necessarily) tendentious\\narea.  Argues both for \"negative atheism\" (i.e. the \"non-belief in the\\nexistence of god(s)\") and also for \"positive atheism\" (\"the belief in the\\nnon-existence of god(s)\").  Includes great refutations of the most\\nchallenging arguments for god; particular attention is paid to refuting\\ncontempory theists such as Platinga and Swinburne.\\n541 pages. ISBN 0-87722-642-3 (hardcover; paperback also available)\\n\\n\"The Case Against Christianity\", Temple University Press\\nA comprehensive critique of Christianity, in which he considers\\nthe best contemporary defences of Christianity and (ultimately)\\ndemonstrates that they are unsupportable and/or incoherent.\\n273 pages. ISBN 0-87722-767-5\\n\\nJAMES TURNER\\n\\n\"Without God, Without Creed\", The Johns Hopkins University Press, Baltimore,\\n MD, USA\\nSubtitled \"The Origins of Unbelief in America\".  Examines the way in which\\nunbelief (whether agnostic or atheistic)  became a mainstream alternative\\nworld-view.  Focusses on the period 1770-1900, and while considering France\\nand Britain the emphasis is on American, and particularly New England\\ndevelopments.  \"Neither a religious history of secularization or atheism,\\nWithout God, Without Creed is, rather, the intellectual history of the fate\\nof a single idea, the belief that God exists.\" \\n316 pages. ISBN (hardcover) 0-8018-2494-X (paper) 0-8018-3407-4\\n\\nGEORGE SELDES (Editor)\\n\\n\"The great thoughts\", Ballantine Books, New York, USA\\nA \"dictionary of quotations\" of a different kind, concentrating on statements\\nand writings which, explicitly or implicitly, present the person\\'s philosophy\\nand world-view.  Includes obscure (and often suppressed) opinions from many\\npeople.  For some popular observations, traces the way in which various\\npeople expressed and twisted the idea over the centuries.  Quite a number of\\nthe quotations are derived from Cardiff\\'s \"What Great Men Think of Religion\"\\nand Noyes\\' \"Views of Religion\".\\n490 pages. ISBN (paper) 0-345-29887-X.\\n\\nRICHARD SWINBURNE\\n\\n\"The Existence of God (Revised Edition)\", Clarendon Paperbacks, Oxford\\nThis book is the second volume in a trilogy that began with \"The Coherence of\\nTheism\" (1977) and was concluded with \"Faith and Reason\" (1981).  In this\\nwork, Swinburne attempts to construct a series of inductive arguments for the\\nexistence of God.  His arguments, which are somewhat tendentious and rely\\nupon the imputation of late 20th century western Christian values and\\naesthetics to a God which is supposedly as simple as can be conceived, were\\ndecisively rejected in Mackie\\'s \"The Miracle of Theism\".  In the revised\\nedition of \"The Existence of God\", Swinburne includes an Appendix in which he\\nmakes a somewhat incoherent attempt to rebut Mackie.\\n\\nJ. L. MACKIE\\n\\n\"The Miracle of Theism\", Oxford\\nThis (posthumous) volume contains a comprehensive review of the principal\\narguments for and against the existence of God.  It ranges from the classical\\nphilosophical positions of Descartes, Anselm, Berkeley, Hume et al, through\\nthe moral arguments of Newman, Kant and Sidgwick, to the recent restatements\\nof the classical theses by Plantinga and Swinburne.  It also addresses those\\npositions which push the concept of God beyond the realm of the rational,\\nsuch as those of Kierkegaard, Kung and Philips, as well as \"replacements for\\nGod\" such as Lelie\\'s axiarchism.  The book is a delight to read - less\\nformalistic and better written than Martin\\'s works, and refreshingly direct\\nwhen compared with the hand-waving of Swinburne.\\n\\nJAMES A. HAUGHT\\n\\n\"Holy Horrors: An Illustrated History of Religious Murder and Madness\",\\n Prometheus Books\\nLooks at religious persecution from ancient times to the present day -- and\\nnot only by Christians.\\nLibrary of Congress Catalog Card Number 89-64079. 1990.\\n\\nNORM R. ALLEN, JR.\\n\\n\"African American Humanism: an Anthology\"\\nSee the listing for African Americans for Humanism above.\\n\\nGORDON STEIN\\n\\n\"An Anthology of Atheism and Rationalism\", Prometheus Books\\nAn anthology covering a wide range of subjects, including \\'The Devil, Evil\\nand Morality\\' and \\'The History of Freethought\\'.  Comprehensive bibliography.\\n\\nEDMUND D. COHEN\\n\\n\"The Mind of The Bible-Believer\", Prometheus Books\\nA study of why people become Christian fundamentalists, and what effect it\\nhas on them.\\n\\n                                Net Resources\\n\\nThere\\'s a small mail-based archive server at mantis.co.uk which carries\\narchives of old alt.atheism.moderated articles and assorted other files.  For\\nmore information, send mail to archive-server@mantis.co.uk saying\\n\\n   help\\n   send atheism/index\\n\\nand it will mail back a reply.\\n\\n\\nmathew\\n\\ufffd\\n')\n"
     ]
    }
   ],
   "source": [
    "textFilePairs = sc.wholeTextFiles(HDFS + '20_newsgroup/*')\n",
    "print(textFilePairs.count())\n",
    "print(textFilePairs.first())"
   ]
  },
  {
   "cell_type": "code",
   "execution_count": 3,
   "metadata": {},
   "outputs": [
    {
     "name": "stdout",
     "output_type": "stream",
     "text": [
      "20\n",
      "(u'sci.crypt', 1000)\n",
      "(u'comp.sys.mac.hardware', 1000)\n",
      "(u'sci.med', 1000)\n",
      "(u'comp.windows.x', 1000)\n",
      "(u'misc.forsale', 1000)\n",
      "(u'talk.politics.guns', 1000)\n",
      "(u'comp.os.ms-windows.misc', 1000)\n",
      "(u'sci.space', 1000)\n",
      "(u'rec.sport.baseball', 1000)\n",
      "(u'rec.motorcycles', 1000)\n",
      "(u'talk.politics.misc', 1000)\n",
      "(u'comp.graphics', 1000)\n",
      "(u'talk.religion.misc', 1000)\n",
      "(u'talk.politics.mideast', 1000)\n",
      "(u'comp.sys.ibm.pc.hardware', 1000)\n",
      "(u'alt.atheism', 1000)\n",
      "(u'rec.sport.hockey', 1000)\n",
      "(u'sci.electronics', 1000)\n",
      "(u'rec.autos', 1000)\n",
      "(u'soc.religion.christian', 997)\n"
     ]
    }
   ],
   "source": [
    "newsGroup = textFilePairs.map(lambda (path, content) : (path.split('/')[-2], 1)).reduceByKey(lambda a, b: a + b)\n",
    "print(newsGroup.count())\n",
    "sortedNewsGroup = newsGroup.sortBy(lambda x:x[1], ascending = False)\n",
    "for ng in sortedNewsGroup.collect():\n",
    "    print(ng)"
   ]
  },
  {
   "cell_type": "markdown",
   "metadata": {},
   "source": [
    "### Tokenization"
   ]
  },
  {
   "cell_type": "code",
   "execution_count": 4,
   "metadata": {},
   "outputs": [
    {
     "name": "stdout",
     "output_type": "stream",
     "text": [
      "425542\n",
      "['xref:', 'cantaloupe.srv.cs.cmu.edu', 'alt.atheism:49960', 'alt.atheism.moderated:713', 'news.answers:7054', 'alt.answers:126', 'path:', 'cantaloupe.srv.cs.cmu.edu!crabapple.srv.cs.cmu.edu!bb3.andrew.cmu.edu!news.sei.cmu.edu!cis.ohio-state.edu!magnus.acs.ohio-state.edu!usenet.ins.cwru.edu!agate!spool.mu.edu!uunet!pipex!ibmpcug!mantis!mathew', 'from:', 'mathew', '<mathew@mantis.co.uk>', 'newsgroups:', 'alt.atheism,alt.atheism.moderated,news.answers,alt.answers', 'subject:', 'alt.atheism', 'faq:', 'atheist', 'resources', 'summary:', 'books,', 'addresses,', 'music', '--', 'anything', 'related', 'to', 'atheism', 'keywords:', 'faq,', 'atheism,', 'books,', 'music,', 'fiction,', 'addresses,', 'contacts', 'message-id:', '<19930329115719@mantis.co.uk>', 'date:', 'mon,', '29', 'mar', '1993', '11:57:19', 'gmt', 'expires:', 'thu,', '29', 'apr', '1993', '11:57:19', 'gmt', 'followup-to:', 'alt.atheism', 'distribution:', 'world', 'organization:', 'mantis', 'consultants,', 'cambridge.', 'uk.', 'approved:', 'news-answers-request@mit.edu', 'supersedes:', '<19930301143317@mantis.co.uk>', 'lines:', '290', 'archive-name:', 'atheism/resources', 'alt-atheism-archive-name:', 'resources', 'last-modified:', '11', 'december', '1992', 'version:', '1.0', 'atheist', 'resources', 'addresses', 'of', 'atheist', 'organizations', 'usa', 'freedom', 'from', 'religion', 'foundation', 'darwin', 'fish', 'bumper', 'stickers', 'and', 'assorted', 'other', 'atheist', 'paraphernalia', 'are', 'available', 'from', 'the']\n"
     ]
    }
   ],
   "source": [
    "# split the text and convert all words to lowercase\n",
    "texts = textFilePairs.map(lambda (path, text):text.encode('utf8'))\n",
    "totalWords = texts.flatMap(lambda text:map(lambda word:word.lower(), text.replace('\\n', ' ').split()))\n",
    "print(totalWords.distinct().count())\n",
    "print(totalWords.take(100))"
   ]
  },
  {
   "cell_type": "code",
   "execution_count": 5,
   "metadata": {
    "scrolled": false
   },
   "outputs": [
    {
     "name": "stdout",
     "output_type": "stream",
     "text": [
      "['xref', 'cantaloupe', 'srv', 'cs', 'cmu', 'edu', 'alt', 'atheism', '49960', 'alt', 'atheism', 'moderated', '713', 'news', 'answers', '7054', 'alt', 'answers', '126', 'path', 'cantaloupe', 'srv', 'cs', 'cmu', 'edu', 'crabapple', 'srv', 'cs', 'cmu', 'edu', 'bb3', 'andrew', 'cmu', 'edu', 'news', 'sei', 'cmu', 'edu', 'cis', 'ohio', 'state', 'edu', 'magnus', 'acs', 'ohio', 'state', 'edu', 'usenet', 'ins', 'cwru', 'edu', 'agate', 'spool', 'mu', 'edu', 'uunet', 'pipex', 'ibmpcug', 'mantis', 'mathew', 'from', 'mathew', 'mathew', 'mantis', 'co', 'uk', 'newsgroups', 'alt', 'atheism', 'alt', 'atheism', 'moderated', 'news', 'answers', 'alt', 'answers', 'subject', 'alt', 'atheism', 'faq', 'atheist', 'resources', 'summary', 'books', 'addresses', 'music', 'anything', 'related', 'to', 'atheism', 'keywords', 'faq', 'atheism', 'books', 'music', 'fiction', 'addresses', 'contacts', 'message', 'id']\n"
     ]
    }
   ],
   "source": [
    "# The preceding simple approach results in a lot of tokens and does not flter out many nonword characters \n",
    "#  We can do this by splitting each raw document on nonword characters using a regular expression pattern\n",
    "import re\n",
    "noPunctuationWords = texts.flatMap(lambda text:map(lambda word:word.lower(), re.split('\\W+', text)))\n",
    "print(noPunctuationWords.take(100))"
   ]
  },
  {
   "cell_type": "code",
   "execution_count": 6,
   "metadata": {},
   "outputs": [
    {
     "name": "stdout",
     "output_type": "stream",
     "text": [
      "['xref', 'cantaloupe', 'srv', 'cs', 'cmu', 'edu', 'alt', 'atheism', 'alt', 'atheism', 'moderated', 'news', 'answers', 'alt', 'answers', 'path', 'cantaloupe', 'srv', 'cs', 'cmu', 'edu', 'crabapple', 'srv', 'cs', 'cmu', 'edu', 'andrew', 'cmu', 'edu', 'news', 'sei', 'cmu', 'edu', 'cis', 'ohio', 'state', 'edu', 'magnus', 'acs', 'ohio', 'state', 'edu', 'usenet', 'ins', 'cwru', 'edu', 'agate', 'spool', 'mu', 'edu', 'uunet', 'pipex', 'ibmpcug', 'mantis', 'mathew', 'from', 'mathew', 'mathew', 'mantis', 'co', 'uk', 'newsgroups', 'alt', 'atheism', 'alt', 'atheism', 'moderated', 'news', 'answers', 'alt', 'answers', 'subject', 'alt', 'atheism', 'faq', 'atheist', 'resources', 'summary', 'books', 'addresses', 'music', 'anything', 'related', 'to', 'atheism', 'keywords', 'faq', 'atheism', 'books', 'music', 'fiction', 'addresses', 'contacts', 'message', 'id', 'mantis', 'co', 'uk', 'date', 'mon']\n"
     ]
    }
   ],
   "source": [
    "# filter out string with digits\n",
    "onlyWords = noPunctuationWords.filter(lambda word: not re.search(r'\\d', word))\n",
    "print(onlyWords.take(100))"
   ]
  },
  {
   "cell_type": "markdown",
   "metadata": {},
   "source": [
    "### Remove stop words"
   ]
  },
  {
   "cell_type": "markdown",
   "metadata": {},
   "source": [
    "We can take a look at some of the tokens in our corpus that have the highest occurrence \n",
    "across all documents to get an idea about some other stop words to exclude"
   ]
  },
  {
   "cell_type": "code",
   "execution_count": 7,
   "metadata": {
    "scrolled": true
   },
   "outputs": [
    {
     "name": "stdout",
     "output_type": "stream",
     "text": [
      "[('the', 256555), ('edu', 164007), ('to', 133963), ('of', 122352), ('a', 111811), ('and', 102358), ('i', 92113), ('in', 87008), ('is', 75575), ('that', 70765), ('ax', 62416), ('it', 58816), ('cmu', 52409), ('for', 50392), ('com', 50158), ('you', 48181), ('cs', 45142), ('from', 39705), ('s', 38681), ('on', 35559)]\n"
     ]
    }
   ],
   "source": [
    "wordCount = onlyWords.map(lambda word:(word, 1)).reduceByKey(lambda a,b : a+b)\n",
    "sortedWordCount = wordCount.sortBy(lambda (k, v):v, ascending = False)\n",
    "print(sortedWordCount.take(20))"
   ]
  },
  {
   "cell_type": "code",
   "execution_count": 26,
   "metadata": {
    "scrolled": false
   },
   "outputs": [
    {
     "name": "stdout",
     "output_type": "stream",
     "text": [
      "before filtering stop words: 111525\n",
      "after filtering stop words:111496\n",
      "[('edu', 164007), ('i', 92113), ('ax', 62416), ('cmu', 52409), ('com', 50158), ('you', 48181), ('cs', 45142), ('news', 34309), ('srv', 32359), ('t', 32121), ('cantaloupe', 26048), ('net', 25459), ('message', 21954), ('subject', 21589), ('lines', 20894), ('date', 20787), ('id', 20695), ('apr', 20510), ('newsgroups', 20404), ('path', 20369)]\n",
      "(<type 'set'>, 40808)\n"
     ]
    }
   ],
   "source": [
    "stopWords = {\"the\",\"a\",\"s\",\"an\",\"of\",\"or\",\"in\",\"for\",\"by\",\"on\",\"but\", \"is\", \"not\",\"with\", \"as\", \"was\", \"if\",\n",
    "             \"they\", \"are\", \"this\", \"and\", \"it\", \"have\", \"from\", \"at\", \"my\",\"be\", \"that\", \"to\"}\n",
    "print('before filtering stop words: {0}'.format(sortedWordCount.count()))\n",
    "filteredSortedWordCount = sortedWordCount.filter(lambda (k, v): k not in stopWords)\n",
    "print('after filtering stop words:{0}'.format(filteredSortedWordCount.count()))\n",
    "print(filteredSortedWordCount.take(20))\n",
    "rareWords = set(filteredSortedWordCount.filter(lambda (k,v): v==1).collect())\n",
    "print(type(rareWords), len(rareWords))"
   ]
  },
  {
   "cell_type": "markdown",
   "metadata": {},
   "source": [
    "One other fltering step that we will use is removing any tokens that are only\n",
    "one character in length. The reasoning behind this is similar to removing stop\n",
    "words—these single-character tokens are unlikely to be informative in our text\n",
    "model and can further reduce the feature dimension and model size"
   ]
  },
  {
   "cell_type": "code",
   "execution_count": 9,
   "metadata": {},
   "outputs": [
    {
     "name": "stdout",
     "output_type": "stream",
     "text": [
      "111470\n",
      "[('edu', 164007), ('ax', 62416), ('cmu', 52409), ('com', 50158), ('you', 48181), ('cs', 45142), ('news', 34309), ('srv', 32359), ('cantaloupe', 26048), ('net', 25459), ('message', 21954), ('subject', 21589), ('lines', 20894), ('date', 20787), ('id', 20695), ('apr', 20510), ('newsgroups', 20404), ('path', 20369), ('can', 20028), ('organization', 19840)]\n"
     ]
    }
   ],
   "source": [
    "filteredSortedWordCount = filteredSortedWordCount.filter(lambda (k, v): len(k) > 1)\n",
    "print(filteredSortedWordCount.count())\n",
    "print(filteredSortedWordCount.take(20))"
   ]
  },
  {
   "cell_type": "markdown",
   "metadata": {},
   "source": [
    "### Excluding terms based on frequency"
   ]
  },
  {
   "cell_type": "markdown",
   "metadata": {},
   "source": [
    "It is also a common practice to exclude terms during tokenization when their overall\n",
    "occurrence in the corpus is very low"
   ]
  },
  {
   "cell_type": "code",
   "execution_count": 24,
   "metadata": {
    "scrolled": true
   },
   "outputs": [
    {
     "name": "stdout",
     "output_type": "stream",
     "text": [
      "[('tilton', 2), ('netcdf', 2), ('outragious', 2), ('fawr', 2), ('sation', 2), ('yougoslavie', 2), ('gruel', 2), ('originality', 2), ('_ki', 2), ('xjudging', 2), ('lmx', 2), ('centimeter', 2), ('phenylanine', 2), ('wiseguy', 2), ('natured', 2), ('naviagtion', 2), ('vecchio', 2), ('sig_alrm', 2), ('toowoomba', 2), ('millimetres', 2)]\n",
      "(<type 'list'>, 0)\n"
     ]
    }
   ],
   "source": [
    "print(filteredSortedWordCount.takeOrdered(20, lambda (k, v):v))"
   ]
  },
  {
   "cell_type": "markdown",
   "metadata": {},
   "source": [
    "As we can see, there are many terms that only occur once in the entire corpus.\n",
    "Since typically we want to use our extracted features for other tasks such as\n",
    "document similarity or machine learning models, tokens that only occur once are\n",
    "not useful to learn from, as we will not have enough training data relative to these\n",
    "tokens. We can apply another filter to exclude these rare tokens"
   ]
  },
  {
   "cell_type": "code",
   "execution_count": 11,
   "metadata": {
    "scrolled": false
   },
   "outputs": [
    {
     "name": "stdout",
     "output_type": "stream",
     "text": [
      "before filtering words that appear once: 111470\n",
      "after filtering words that appear once:70662\n",
      "[('tilton', 2), ('netcdf', 2), ('outragious', 2), ('fawr', 2), ('sation', 2), ('yougoslavie', 2), ('gruel', 2), ('originality', 2), ('_ki', 2), ('xjudging', 2), ('lmx', 2), ('centimeter', 2), ('phenylanine', 2), ('wiseguy', 2), ('natured', 2), ('naviagtion', 2), ('vecchio', 2), ('sig_alrm', 2), ('toowoomba', 2), ('millimetres', 2)]\n"
     ]
    }
   ],
   "source": [
    "print('before filtering words that appear once: {0}'.format(filteredSortedWordCount.count()))\n",
    "filteredSortedWordCount = filteredSortedWordCount.filter(lambda (k, v) : v > 1)\n",
    "print('after filtering words that appear once:{0}'.format(filteredSortedWordCount.count()))\n",
    "print(filteredSortedWordCount.takeOrdered(20, lambda (k, v):v))"
   ]
  },
  {
   "cell_type": "code",
   "execution_count": 31,
   "metadata": {},
   "outputs": [],
   "source": [
    "# combine all the processing procedure above to  tranfrom each document to a sequence of tokens\n",
    "tokens = texts.map(lambda text :map(lambda word:word.lower(), re.split('\\W+', text)))\\\n",
    "              .map(lambda wordList: filter(lambda word: not re.search(r'\\d', word), wordList))\\\n",
    "              .map(lambda wordList: filter(lambda word: word not in stopWords, wordList))\\\n",
    "              .map(lambda wordList: filter(lambda word: word not in rareWords, wordList))\\\n",
    "              .map(lambda wordList: filter(lambda word: len(word)>1, wordList))"
   ]
  },
  {
   "cell_type": "markdown",
   "metadata": {},
   "source": [
    "### A note about stemming"
   ]
  },
  {
   "cell_type": "markdown",
   "metadata": {},
   "source": [
    "A common step in text processing and tokenization is stemming. **This is the conversion\n",
    "of whole words to a base form (called a word stem)**. For example, plurals might be\n",
    "converted to singular (dogs becomes dog), and forms such as walking and walker might\n",
    "become walk. Stemming can become quite complex and is typically handled with\n",
    "specialized NLP or search engine software (such as NLTK, OpenNLP, and Lucene,\n",
    "for example). We will ignore stemming for the purpose of our example here."
   ]
  },
  {
   "cell_type": "markdown",
   "metadata": {},
   "source": [
    "# Training a TF-IDF model"
   ]
  },
  {
   "cell_type": "markdown",
   "metadata": {},
   "source": [
    "We will now use MLlib to transform each document, in the form of processed\n",
    "tokens, into a vector representation. The frst step will be to **use the HashingTF\n",
    "implementation, which makes use of feature hashing to map each token in the input\n",
    "text to an index in the vector of term frequencies.** Then, we will compute the global\n",
    "IDF and use it to transform the term frequency vectors into TF-IDF vectors"
   ]
  },
  {
   "cell_type": "code",
   "execution_count": 32,
   "metadata": {
    "scrolled": true
   },
   "outputs": [
    {
     "name": "stdout",
     "output_type": "stream",
     "text": [
      "['xref', 'cantaloupe', 'srv', 'cs', 'cmu', 'edu', 'alt', 'atheism', 'alt', 'atheism', 'moderated', 'news', 'answers', 'alt', 'answers', 'path', 'cantaloupe', 'srv', 'cs', 'cmu', 'edu', 'crabapple', 'srv', 'cs', 'cmu', 'edu', 'andrew', 'cmu', 'edu', 'news', 'sei', 'cmu', 'edu', 'cis', 'ohio', 'state', 'edu', 'magnus', 'acs', 'ohio', 'state', 'edu', 'usenet', 'ins', 'cwru', 'edu', 'agate', 'spool', 'mu', 'edu', 'uunet', 'pipex', 'ibmpcug', 'mantis', 'mathew', 'mathew', 'mathew', 'mantis', 'co', 'uk', 'newsgroups', 'alt', 'atheism', 'alt', 'atheism', 'moderated', 'news', 'answers', 'alt', 'answers', 'subject', 'alt', 'atheism', 'faq', 'atheist', 'resources', 'summary', 'books', 'addresses', 'music', 'anything', 'related', 'atheism', 'keywords', 'faq', 'atheism', 'books', 'music', 'fiction', 'addresses', 'contacts', 'message', 'id', 'mantis', 'co', 'uk', 'date', 'mon', 'mar', 'gmt', 'expires', 'thu', 'apr', 'gmt', 'followup', 'alt', 'atheism', 'distribution', 'world', 'organization', 'mantis', 'consultants', 'cambridge', 'uk', 'approved', 'news', 'answers', 'request', 'mit', 'edu', 'supersedes', 'mantis', 'co', 'uk', 'lines', 'archive', 'name', 'atheism', 'resources', 'alt', 'atheism', 'archive', 'name', 'resources', 'last', 'modified', 'december', 'version', 'atheist', 'resources', 'addresses', 'atheist', 'organizations', 'usa', 'freedom', 'religion', 'foundation', 'darwin', 'fish', 'bumper', 'stickers', 'assorted', 'other', 'atheist', 'paraphernalia', 'available', 'freedom', 'religion', 'foundation', 'us', 'write', 'ffrf', 'box', 'madison', 'wi', 'telephone', 'evolution', 'designs', 'evolution', 'designs', 'sell', 'darwin', 'fish', 'fish', 'symbol', 'like', 'ones', 'christians', 'stick', 'their', 'cars', 'feet', 'word', 'darwin', 'written', 'inside', 'deluxe', 'moulded', 'plastic', 'fish', 'postpaid', 'us', 'write', 'evolution', 'designs', 'laurel', 'canyon', 'north', 'hollywood', 'ca', 'people', 'san', 'francisco', 'bay', 'area', 'can', 'get', 'darwin', 'fish', 'lynn', 'gold', 'try', 'mailing', 'figmo', 'netcom', 'com', 'net', 'people', 'who', 'go', 'lynn', 'directly', 'price', 'per', 'fish', 'american', 'atheist', 'press', 'aap', 'publish', 'various', 'atheist', 'books', 'critiques', 'bible', 'lists', 'biblical', 'contradictions', 'so', 'one', 'such', 'book', 'bible', 'handbook', 'ball', 'foote', 'american', 'atheist', 'press', 'pp', 'isbn', 'edition', 'bible', 'contradictions', 'absurdities', 'atrocities', 'immoralities', 'contains', 'ball', 'foote', 'bible', 'contradicts', 'itself', 'aap', 'based', 'king', 'james', 'version', 'bible', 'write', 'american', 'atheist', 'press', 'box', 'austin', 'tx', 'cameron', 'road', 'austin', 'tx', 'telephone', 'fax', 'prometheus', 'books', 'sell', 'books', 'including', 'haught', 'holy', 'horrors', 'see', 'below', 'write', 'east', 'amherst', 'street', 'buffalo', 'new', 'york', 'telephone', 'alternate', 'address', 'which', 'may', 'newer', 'older', 'prometheus', 'books', 'glenn', 'drive', 'buffalo', 'ny', 'african', 'americans', 'humanism', 'organization', 'promoting', 'black', 'secular', 'humanism', 'uncovering', 'history', 'black', 'freethought', 'publish', 'quarterly', 'newsletter', 'aah', 'examiner', 'write', 'norm', 'allen', 'jr', 'african', 'americans', 'humanism', 'box', 'buffalo', 'ny', 'united', 'kingdom', 'rationalist', 'press', 'association', 'national', 'secular', 'society', 'islington', 'high', 'street', 'holloway', 'road', 'london', 'london', 'british', 'humanist', 'association', 'south', 'place', 'ethical', 'society', 'lamb', 'conduit', 'passage', 'conway', 'hall', 'london', 'red', 'lion', 'square', 'london', 'fax', 'national', 'secular', 'society', 'publish', 'freethinker', 'monthly', 'magazine', 'founded', 'germany', 'ibka', 'internationaler', 'bund', 'der', 'konfessionslosen', 'und', 'atheisten', 'postfach', 'berlin', 'germany', 'ibka', 'publish', 'journal', 'miz', 'materialien', 'und', 'informationen', 'zur', 'zeit', 'politisches', 'journal', 'der', 'konfessionslosesn', 'und', 'atheisten', 'hrsg', 'ibka', 'miz', 'vertrieb', 'postfach', 'berlin', 'germany', 'atheist', 'books', 'write', 'ibdk', 'internationaler', 'ucherdienst', 'der', 'konfessionslosen', 'postfach', 'hannover', 'germany', 'telephone', 'books', 'fiction', 'thomas', 'disch', 'santa', 'claus', 'compromise', 'short', 'story', 'ultimate', 'proof', 'santa', 'exists', 'all', 'characters', 'events', 'fictitious', 'any', 'similarity', 'living', 'dead', 'gods', 'uh', 'well', 'walter', 'miller', 'jr', 'canticle', 'leibowitz', 'one', 'gem', 'post', 'atomic', 'doomsday', 'novel', 'monks', 'who', 'spent', 'their', 'lives', 'copying', 'blueprints', 'saint', 'leibowitz', 'filling', 'sheets', 'paper', 'ink', 'leaving', 'white', 'lines', 'letters', 'edgar', 'pangborn', 'davy', 'post', 'atomic', 'doomsday', 'novel', 'set', 'clerical', 'states', 'church', 'example', 'forbids', 'anyone', 'produce', 'describe', 'use', 'any', 'substance', 'containing', 'atoms', 'philip', 'dick', 'philip', 'dick', 'dick', 'wrote', 'many', 'philosophical', 'thought', 'provoking', 'short', 'stories', 'novels', 'his', 'stories', 'bizarre', 'times', 'very', 'approachable', 'he', 'wrote', 'mainly', 'sf', 'he', 'wrote', 'about', 'people', 'truth', 'religion', 'rather', 'than', 'technology', 'although', 'he', 'often', 'believed', 'he', 'had', 'met', 'some', 'sort', 'god', 'he', 'remained', 'sceptical', 'amongst', 'his', 'novels', 'following', 'some', 'relevance', 'galactic', 'pot', 'healer', 'fallible', 'alien', 'deity', 'summons', 'group', 'earth', 'craftsmen', 'women', 'remote', 'planet', 'raise', 'giant', 'cathedral', 'beneath', 'oceans', 'when', 'deity', 'begins', 'demand', 'faith', 'earthers', 'pot', 'healer', 'joe', 'fernwright', 'unable', 'comply', 'polished', 'ironic', 'amusing', 'novel', 'maze', 'death', 'noteworthy', 'its', 'description', 'technology', 'based', 'religion', 'valis', 'schizophrenic', 'hero', 'searches', 'hidden', 'mysteries', 'gnostic', 'christianity', 'after', 'reality', 'fired', 'into', 'his', 'brain', 'pink', 'laser', 'beam', 'unknown', 'possibly', 'divine', 'origin', 'he', 'accompanied', 'his', 'dogmatic', 'dismissively', 'atheist', 'friend', 'assorted', 'other', 'odd', 'characters', 'divine', 'invasion', 'god', 'invades', 'earth', 'making', 'young', 'woman', 'pregnant', 'she', 'returns', 'another', 'star', 'system', 'unfortunately', 'she', 'terminally', 'ill', 'must', 'assisted', 'dead', 'man', 'whose', 'brain', 'wired', 'hour', 'easy', 'listening', 'music', 'margaret', 'atwood', 'handmaid', 'tale', 'story', 'based', 'premise', 'us', 'congress', 'mysteriously', 'assassinated', 'fundamentalists', 'quickly', 'take', 'charge', 'nation', 'set', 'right', 'again', 'book', 'diary', 'woman', 'life', 'she', 'tries', 'live', 'under', 'new', 'christian', 'theocracy', 'women', 'right', 'own', 'property', 'revoked', 'their', 'bank', 'accounts', 'closed', 'sinful', 'luxuries', 'outlawed', 'radio', 'only', 'used', 'readings', 'bible', 'crimes', 'punished', 'retroactively', 'doctors', 'who', 'performed', 'legal', 'abortions', 'old', 'world', 'hunted', 'down', 'hanged', 'atwood', 'writing', 'style', 'difficult', 'get', 'used', 'first', 'tale', 'grows', 'more', 'more', 'chilling', 'goes', 'various', 'authors', 'bible', 'somewhat', 'dull', 'rambling', 'work', 'has', 'often', 'been', 'criticized', 'however', 'probably', 'worth', 'reading', 'only', 'so', 'you', 'll', 'know', 'what', 'all', 'fuss', 'about', 'exists', 'many', 'different', 'versions', 'so', 'make', 'sure', 'you', 'get', 'one', 'true', 'version', 'books', 'non', 'fiction', 'peter', 'de', 'rosa', 'vicars', 'christ', 'bantam', 'press', 'although', 'de', 'rosa', 'seems', 'christian', 'even', 'catholic', 'very', 'enlighting', 'history', 'papal', 'immoralities', 'adulteries', 'fallacies', 'etc', 'german', 'translation', 'gottes', 'erste', 'diener', 'die', 'dunkle', 'seite', 'des', 'papsttums', 'droemer', 'knaur', 'michael', 'martin', 'atheism', 'philosophical', 'justification', 'temple', 'university', 'press', 'philadelphia', 'usa', 'detailed', 'scholarly', 'justification', 'atheism', 'contains', 'outstanding', 'appendix', 'defining', 'terminology', 'usage', 'necessarily', 'tendentious', 'area', 'argues', 'both', 'negative', 'atheism', 'non', 'belief', 'existence', 'god', 'also', 'positive', 'atheism', 'belief', 'non', 'existence', 'god', 'includes', 'great', 'refutations', 'most', 'challenging', 'arguments', 'god', 'particular', 'attention', 'paid', 'refuting', 'contempory', 'theists', 'such', 'platinga', 'swinburne', 'pages', 'isbn', 'hardcover', 'paperback', 'also', 'available', 'case', 'against', 'christianity', 'temple', 'university', 'press', 'comprehensive', 'critique', 'christianity', 'which', 'he', 'considers', 'best', 'contemporary', 'defences', 'christianity', 'ultimately', 'demonstrates', 'unsupportable', 'incoherent', 'pages', 'isbn', 'james', 'turner', 'without', 'god', 'without', 'creed', 'johns', 'hopkins', 'university', 'press', 'baltimore', 'md', 'usa', 'subtitled', 'origins', 'unbelief', 'america', 'examines', 'way', 'which', 'unbelief', 'whether', 'agnostic', 'atheistic', 'became', 'mainstream', 'alternative', 'world', 'view', 'focusses', 'period', 'while', 'considering', 'france', 'britain', 'emphasis', 'american', 'particularly', 'new', 'england', 'developments', 'neither', 'religious', 'history', 'secularization', 'atheism', 'without', 'god', 'without', 'creed', 'rather', 'intellectual', 'history', 'fate', 'single', 'idea', 'belief', 'god', 'exists', 'pages', 'isbn', 'hardcover', 'paper', 'george', 'seldes', 'editor', 'great', 'thoughts', 'ballantine', 'books', 'new', 'york', 'usa', 'dictionary', 'quotations', 'different', 'kind', 'concentrating', 'statements', 'writings', 'which', 'explicitly', 'implicitly', 'present', 'person', 'philosophy', 'world', 'view', 'includes', 'obscure', 'often', 'suppressed', 'opinions', 'many', 'people', 'some', 'popular', 'observations', 'traces', 'way', 'which', 'various', 'people', 'expressed', 'twisted', 'idea', 'over', 'centuries', 'quite', 'number', 'quotations', 'derived', 'cardiff', 'what', 'great', 'men', 'think', 'religion', 'noyes', 'views', 'religion', 'pages', 'isbn', 'paper', 'richard', 'swinburne', 'existence', 'god', 'revised', 'edition', 'clarendon', 'paperbacks', 'oxford', 'book', 'second', 'volume', 'trilogy', 'began', 'coherence', 'theism', 'concluded', 'faith', 'reason', 'work', 'swinburne', 'attempts', 'construct', 'series', 'inductive', 'arguments', 'existence', 'god', 'his', 'arguments', 'which', 'somewhat', 'tendentious', 'rely', 'upon', 'imputation', 'late', 'century', 'western', 'christian', 'values', 'aesthetics', 'god', 'which', 'supposedly', 'simple', 'can', 'conceived', 'were', 'decisively', 'rejected', 'mackie', 'miracle', 'theism', 'revised', 'edition', 'existence', 'god', 'swinburne', 'includes', 'appendix', 'which', 'he', 'makes', 'somewhat', 'incoherent', 'attempt', 'rebut', 'mackie', 'mackie', 'miracle', 'theism', 'oxford', 'posthumous', 'volume', 'contains', 'comprehensive', 'review', 'principal', 'arguments', 'against', 'existence', 'god', 'ranges', 'classical', 'philosophical', 'positions', 'descartes', 'anselm', 'berkeley', 'hume', 'et', 'al', 'through', 'moral', 'arguments', 'newman', 'kant', 'sidgwick', 'recent', 'restatements', 'classical', 'theses', 'plantinga', 'swinburne', 'also', 'addresses', 'those', 'positions', 'which', 'push', 'concept', 'god', 'beyond', 'realm', 'rational', 'such', 'those', 'kierkegaard', 'kung', 'philips', 'well', 'replacements', 'god', 'such', 'lelie', 'axiarchism', 'book', 'delight', 'read', 'less', 'formalistic', 'better', 'written', 'than', 'martin', 'works', 'refreshingly', 'direct', 'when', 'compared', 'hand', 'waving', 'swinburne', 'james', 'haught', 'holy', 'horrors', 'illustrated', 'history', 'religious', 'murder', 'madness', 'prometheus', 'books', 'looks', 'religious', 'persecution', 'ancient', 'times', 'present', 'day', 'only', 'christians', 'library', 'congress', 'catalog', 'card', 'number', 'norm', 'allen', 'jr', 'african', 'american', 'humanism', 'anthology', 'see', 'listing', 'african', 'americans', 'humanism', 'above', 'gordon', 'stein', 'anthology', 'atheism', 'rationalism', 'prometheus', 'books', 'anthology', 'covering', 'wide', 'range', 'subjects', 'including', 'devil', 'evil', 'morality', 'history', 'freethought', 'comprehensive', 'bibliography', 'edmund', 'cohen', 'mind', 'bible', 'believer', 'prometheus', 'books', 'study', 'why', 'people', 'become', 'christian', 'fundamentalists', 'what', 'effect', 'has', 'them', 'net', 'resources', 'there', 'small', 'mail', 'based', 'archive', 'server', 'mantis', 'co', 'uk', 'which', 'carries', 'archives', 'old', 'alt', 'atheism', 'moderated', 'articles', 'assorted', 'other', 'files', 'more', 'information', 'send', 'mail', 'archive', 'server', 'mantis', 'co', 'uk', 'saying', 'help', 'send', 'atheism', 'index', 'will', 'mail', 'back', 'reply', 'mathew']\n"
     ]
    }
   ],
   "source": [
    "print(tokens.first())"
   ]
  },
  {
   "cell_type": "code",
   "execution_count": 34,
   "metadata": {},
   "outputs": [],
   "source": [
    "from pyspark.mllib.feature import HashingTF, IDF\n",
    "# ref: https://spark.apache.org/docs/2.1.1/mllib-feature-extraction.html\n",
    "dim = pow(2, 18)\n",
    "\n",
    "# The transform function of HashingTF maps each input document \n",
    "# that is, a sequence of tokens to an MLlib Vector.\n",
    "hashingTF = HashingTF(dim)\n",
    "tf = hashingTF.transform(tokens)\n",
    "\n",
    "# While applying HashingTF only needs a single pass to the data, applying IDF needs two passes:\n",
    "# First to compute the IDF vector and second to scale the term frequencies by IDF.\n",
    "tf.cache()\n",
    "idf = IDF().fit(tf)\n",
    "tfidf = idf.transform(tf)"
   ]
  },
  {
   "cell_type": "code",
   "execution_count": 45,
   "metadata": {},
   "outputs": [
    {
     "name": "stdout",
     "output_type": "stream",
     "text": [
      "(<class 'pyspark.mllib.linalg.SparseVector'>, 262144, 788)\n",
      "[ 1.2445212   2.9383072   6.60755068  1.53191401  2.13460871  3.18437439\n",
      "  2.71951683  5.61292811  6.53609172  5.54657807]\n",
      "[ 180 1025 1542 1580 1595 2263 2424 2970 3407 3484]\n"
     ]
    }
   ],
   "source": [
    "TFIDFDoc = tfidf.first()\n",
    "print(type(TFIDFDoc), TFIDFDoc.size, TFIDFDoc.values.size)\n",
    "print(TFIDFDoc.values[:10])\n",
    "print(TFIDFDoc.indices[:10])"
   ]
  },
  {
   "cell_type": "markdown",
   "metadata": {},
   "source": [
    "We can see that the dimension of each sparse vector of term frequencies is 262144 (or 2^18 as we specifed).\n",
    "However, the number on non-zero entries in the vector is only 788. \n",
    "The last two lines of the output show the tfidf and vector indexes for the first few entries in the vector"
   ]
  },
  {
   "cell_type": "code",
   "execution_count": 44,
   "metadata": {
    "collapsed": true
   },
   "outputs": [],
   "source": [
    "# spark.mllib's IDF implementation provides an option for ignoring terms\n",
    "# which occur in less than a minimum number of documents.\n",
    "# In such cases, the IDF for these terms is set to 0.\n",
    "# This feature can be used by passing the minDocFreq value to the IDF constructor.\n",
    "idfIgnore = IDF(minDocFreq=2).fit(tf)\n",
    "tfidfIgnore = idfIgnore.transform(tf)"
   ]
  },
  {
   "cell_type": "markdown",
   "metadata": {},
   "source": [
    "## Analyzing the TF-IDF weightings"
   ]
  },
  {
   "cell_type": "code",
   "execution_count": 48,
   "metadata": {},
   "outputs": [
    {
     "name": "stdout",
     "output_type": "stream",
     "text": [
      "(0.0, 71443.118724658925)\n"
     ]
    }
   ],
   "source": [
    "# First, we can compute the minimum and maximum TF-IDF weights across the entire corpus\n",
    "minMaxTFIDF = tfidf.map(lambda tfidfDoc: (min(tfidfDoc.values), max(tfidfDoc.values)))\\\n",
    "                   .reduce(lambda (min1, max1), (min2, max2): (min(min1, min2), max(max1, max2)))\n",
    "print(minMaxTFIDF)"
   ]
  },
  {
   "cell_type": "code",
   "execution_count": 54,
   "metadata": {},
   "outputs": [
    {
     "name": "stdout",
     "output_type": "stream",
     "text": [
      "[ 9.90338755  9.90338755  9.90338755]\n"
     ]
    }
   ],
   "source": [
    "# TF-IDF weighting will tend to assign a lower weighting to common terms. \n",
    "# To see this, we can compute the TF-IDF representation for a few of the terms that appear in\n",
    "# the list of top occurrences that we previously computed, such as you, do, and we\n",
    "common = sc.parallelize(['you', 'do', 'we'])\n",
    "tfCommon = hashingTF.transform(common)\n",
    "tfidfCommon = idf.transform(tfCommon)\n",
    "print(tfidfCommon.first().values)"
   ]
  },
  {
   "cell_type": "code",
   "execution_count": 56,
   "metadata": {},
   "outputs": [
    {
     "name": "stdout",
     "output_type": "stream",
     "text": [
      "[  9.90338755   9.21024037   9.90338755  23.11848891   8.80477526\n",
      "   9.90338755   8.51709319]\n"
     ]
    }
   ],
   "source": [
    "# Now, let's apply the same transformation to a few less common terms that we might\n",
    "# intuitively associate with being more linked to specifc topics or concepts\n",
    "uncommon = sc.parallelize(['telescope', 'legislation', 'investment'])\n",
    "tfUncommon = hashingTF.transform(uncommon)\n",
    "tfidfUncommon = idf.transform(tfUncommon)\n",
    "print(tfidfUncommon.first().values)"
   ]
  },
  {
   "cell_type": "markdown",
   "metadata": {},
   "source": [
    "# Using a TF-IDF model"
   ]
  },
  {
   "cell_type": "markdown",
   "metadata": {},
   "source": [
    "**While we often refer to training a TF-IDF model, it is actually a feature extraction process or transformation rather than a machine learning model. **TF-IDF weighting is often used as a preprocessing step for other models, such as dimensionality reduction, classifcation, or regression."
   ]
  },
  {
   "cell_type": "markdown",
   "metadata": {},
   "source": [
    "## Document similarity with the 20 Newsgroups dataset and TF-IDF features"
   ]
  },
  {
   "cell_type": "code",
   "execution_count": null,
   "metadata": {
    "collapsed": true
   },
   "outputs": [],
   "source": []
  },
  {
   "cell_type": "code",
   "execution_count": null,
   "metadata": {
    "collapsed": true
   },
   "outputs": [],
   "source": []
  },
  {
   "cell_type": "markdown",
   "metadata": {},
   "source": [
    "## Training a text classifer on the 20 Newsgroups dataset using TF-IDF"
   ]
  },
  {
   "cell_type": "markdown",
   "metadata": {},
   "source": [
    "When using TF-IDF vectors, we expected that the cosine similarity measure would\n",
    "capture the similarity between documents, based on the overlap of terms between\n",
    "them"
   ]
  },
  {
   "cell_type": "code",
   "execution_count": null,
   "metadata": {
    "collapsed": true
   },
   "outputs": [],
   "source": []
  }
 ],
 "metadata": {
  "kernelspec": {
   "display_name": "Apache Toree - PySpark",
   "language": "python",
   "name": "apache_toree_pyspark"
  },
  "language_info": {
   "codemirror_mode": "text/x-ipython",
   "file_extension": ".py",
   "mimetype": "text/x-ipython",
   "name": "python",
   "pygments_lexer": "python",
   "version": "2.7.11\n"
  }
 },
 "nbformat": 4,
 "nbformat_minor": 2
}
