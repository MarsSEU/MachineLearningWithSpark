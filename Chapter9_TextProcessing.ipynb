{
 "cells": [
  {
   "cell_type": "code",
   "execution_count": 1,
   "metadata": {
    "collapsed": true
   },
   "outputs": [],
   "source": [
    "# SparkContext is already defined as sc\n",
    "HDFS = 'hdfs://scut0:9000/'"
   ]
  },
  {
   "cell_type": "markdown",
   "metadata": {},
   "source": [
    "# Extracting the right features from your data"
   ]
  },
  {
   "cell_type": "markdown",
   "metadata": {},
   "source": [
    "## Introduction to Feature hashing"
   ]
  },
  {
   "cell_type": "markdown",
   "metadata": {},
   "source": [
    "Feature hashing is a technique to deal with **high-dimensional data** and is often **used with text and categorical datasets** where the features can take on many unique values (often many millions of values)\n",
    "\n",
    "Up until now, we have often used a simple approach of collecting the distinct feature values and zipping this collection with\n",
    "a set of indices to create a map of feature value to index. This mapping is then\n",
    "broadcast (either explicitly in our code or implicitly by Spark) to each worker.\n",
    "\n",
    "When dealing with huge feature dimensions in the tens of millions or more\n",
    "that are common when working with text, this approach can be slow and can require\n",
    "signifcant memory and network resources, both on the Spark master (to collect the\n",
    "unique values) and workers (to broadcast the resulting mapping to each worker,\n",
    "which keeps it in memory to allow it to apply the feature encoding to its local piece\n",
    "of the input data)\n",
    "\n",
    "\n",
    "Also, building and using 1-of-K feature encoding requires us to keep a mapping of each possible feature value to an index in a vector. Furthermore, the process of creating the mapping itself requires at least one additional pass through the dataset and can be tricky to do in parallel scenarios.\n",
    "\n",
    "\n",
    "**Feature hashing works by assigning the vector index for a feature based on the value obtained by hashing this feature to a number (usually, an integer value) using a hash function. **\n",
    "\n",
    "This encoding works the same way as mapping-based encoding, except that we choose a size for our feature vector upfront.\n",
    "\n",
    "Feature hashing has the advantage that we do not need to build a mapping and keep it in memory. It is also easy to implement, very fast, and can be done online and in real time, thus not requiring a pass through our dataset frst. \n",
    "\n",
    "However, there are two important drawbacks\n",
    "\n",
    "1. As we don't create a mapping of features to index values, we also cannot do\n",
    "the reverse mapping of feature index to value. This makes it harder to, for\n",
    "example, determine which features are most informative in our models.\n",
    "\n",
    "2. As we are restricting the size of our feature vectors, we might experience\n",
    "hash collisions. This happens when two different features are hashed into\n",
    "the same index in our feature vector. **Surprisingly, this doesn't seem to have\n",
    "a severe impact on model performance as long as we choose a reasonable\n",
    "feature vector dimension relative to the dimension of the input data**\n"
   ]
  },
  {
   "cell_type": "markdown",
   "metadata": {},
   "source": [
    "## Extracting the TF-IDF features from the 20 Newsgroups dataset"
   ]
  },
  {
   "cell_type": "markdown",
   "metadata": {},
   "source": [
    "To illustrate the concepts in this chapter, we will use a well-known text dataset called\n",
    "20 Newsgroups; this dataset is commonly used for text-classifcation tasks. This is a\n",
    "collection of newsgroup messages posted across 20 different topics. There are various\n",
    "forms of data available. For our purposes, we will use the bydate version of the\n",
    "dataset, which is available at http://qwone.com/~jason/20Newsgroups."
   ]
  },
  {
   "cell_type": "markdown",
   "metadata": {},
   "source": [
    "### Exploring the 20 Newsgroups data"
   ]
  },
  {
   "cell_type": "code",
   "execution_count": 2,
   "metadata": {
    "scrolled": true
   },
   "outputs": [
    {
     "name": "stdout",
     "output_type": "stream",
     "text": [
      "19997\n",
      "(u'hdfs://scut0:9000/20_newsgroup/alt.atheism/49960', u'Xref: cantaloupe.srv.cs.cmu.edu alt.atheism:49960 alt.atheism.moderated:713 news.answers:7054 alt.answers:126\\nPath: cantaloupe.srv.cs.cmu.edu!crabapple.srv.cs.cmu.edu!bb3.andrew.cmu.edu!news.sei.cmu.edu!cis.ohio-state.edu!magnus.acs.ohio-state.edu!usenet.ins.cwru.edu!agate!spool.mu.edu!uunet!pipex!ibmpcug!mantis!mathew\\nFrom: mathew <mathew@mantis.co.uk>\\nNewsgroups: alt.atheism,alt.atheism.moderated,news.answers,alt.answers\\nSubject: Alt.Atheism FAQ: Atheist Resources\\nSummary: Books, addresses, music -- anything related to atheism\\nKeywords: FAQ, atheism, books, music, fiction, addresses, contacts\\nMessage-ID: <19930329115719@mantis.co.uk>\\nDate: Mon, 29 Mar 1993 11:57:19 GMT\\nExpires: Thu, 29 Apr 1993 11:57:19 GMT\\nFollowup-To: alt.atheism\\nDistribution: world\\nOrganization: Mantis Consultants, Cambridge. UK.\\nApproved: news-answers-request@mit.edu\\nSupersedes: <19930301143317@mantis.co.uk>\\nLines: 290\\n\\nArchive-name: atheism/resources\\nAlt-atheism-archive-name: resources\\nLast-modified: 11 December 1992\\nVersion: 1.0\\n\\n                              Atheist Resources\\n\\n                      Addresses of Atheist Organizations\\n\\n                                     USA\\n\\nFREEDOM FROM RELIGION FOUNDATION\\n\\nDarwin fish bumper stickers and assorted other atheist paraphernalia are\\navailable from the Freedom From Religion Foundation in the US.\\n\\nWrite to:  FFRF, P.O. Box 750, Madison, WI 53701.\\nTelephone: (608) 256-8900\\n\\nEVOLUTION DESIGNS\\n\\nEvolution Designs sell the \"Darwin fish\".  It\\'s a fish symbol, like the ones\\nChristians stick on their cars, but with feet and the word \"Darwin\" written\\ninside.  The deluxe moulded 3D plastic fish is $4.95 postpaid in the US.\\n\\nWrite to:  Evolution Designs, 7119 Laurel Canyon #4, North Hollywood,\\n           CA 91605.\\n\\nPeople in the San Francisco Bay area can get Darwin Fish from Lynn Gold --\\ntry mailing <figmo@netcom.com>.  For net people who go to Lynn directly, the\\nprice is $4.95 per fish.\\n\\nAMERICAN ATHEIST PRESS\\n\\nAAP publish various atheist books -- critiques of the Bible, lists of\\nBiblical contradictions, and so on.  One such book is:\\n\\n\"The Bible Handbook\" by W.P. Ball and G.W. Foote.  American Atheist Press.\\n372 pp.  ISBN 0-910309-26-4, 2nd edition, 1986.  Bible contradictions,\\nabsurdities, atrocities, immoralities... contains Ball, Foote: \"The Bible\\nContradicts Itself\", AAP.  Based on the King James version of the Bible.\\n\\nWrite to:  American Atheist Press, P.O. Box 140195, Austin, TX 78714-0195.\\n      or:  7215 Cameron Road, Austin, TX 78752-2973.\\nTelephone: (512) 458-1244\\nFax:       (512) 467-9525\\n\\nPROMETHEUS BOOKS\\n\\nSell books including Haught\\'s \"Holy Horrors\" (see below).\\n\\nWrite to:  700 East Amherst Street, Buffalo, New York 14215.\\nTelephone: (716) 837-2475.\\n\\nAn alternate address (which may be newer or older) is:\\nPrometheus Books, 59 Glenn Drive, Buffalo, NY 14228-2197.\\n\\nAFRICAN-AMERICANS FOR HUMANISM\\n\\nAn organization promoting black secular humanism and uncovering the history of\\nblack freethought.  They publish a quarterly newsletter, AAH EXAMINER.\\n\\nWrite to:  Norm R. Allen, Jr., African Americans for Humanism, P.O. Box 664,\\n           Buffalo, NY 14226.\\n\\n                                United Kingdom\\n\\nRationalist Press Association          National Secular Society\\n88 Islington High Street               702 Holloway Road\\nLondon N1 8EW                          London N19 3NL\\n071 226 7251                           071 272 1266\\n\\nBritish Humanist Association           South Place Ethical Society\\n14 Lamb\\'s Conduit Passage              Conway Hall\\nLondon WC1R 4RH                        Red Lion Square\\n071 430 0908                           London WC1R 4RL\\nfax 071 430 1271                       071 831 7723\\n\\nThe National Secular Society publish \"The Freethinker\", a monthly magazine\\nfounded in 1881.\\n\\n                                   Germany\\n\\nIBKA e.V.\\nInternationaler Bund der Konfessionslosen und Atheisten\\nPostfach 880, D-1000 Berlin 41. Germany.\\n\\nIBKA publish a journal:\\nMIZ. (Materialien und Informationen zur Zeit. Politisches\\nJournal der Konfessionslosesn und Atheisten. Hrsg. IBKA e.V.)\\nMIZ-Vertrieb, Postfach 880, D-1000 Berlin 41. Germany.\\n\\nFor atheist books, write to:\\n\\nIBDK, Internationaler B\"ucherdienst der Konfessionslosen\\nPostfach 3005, D-3000 Hannover 1. Germany.\\nTelephone: 0511/211216\\n\\n\\n                               Books -- Fiction\\n\\nTHOMAS M. DISCH\\n\\n\"The Santa Claus Compromise\"\\nShort story.  The ultimate proof that Santa exists.  All characters and \\nevents are fictitious.  Any similarity to living or dead gods -- uh, well...\\n\\nWALTER M. MILLER, JR\\n\\n\"A Canticle for Leibowitz\"\\nOne gem in this post atomic doomsday novel is the monks who spent their lives\\ncopying blueprints from \"Saint Leibowitz\", filling the sheets of paper with\\nink and leaving white lines and letters.\\n\\nEDGAR PANGBORN\\n\\n\"Davy\"\\nPost atomic doomsday novel set in clerical states.  The church, for example,\\nforbids that anyone \"produce, describe or use any substance containing...\\natoms\". \\n\\nPHILIP K. DICK\\n\\nPhilip K. Dick Dick wrote many philosophical and thought-provoking short \\nstories and novels.  His stories are bizarre at times, but very approachable.\\nHe wrote mainly SF, but he wrote about people, truth and religion rather than\\ntechnology.  Although he often believed that he had met some sort of God, he\\nremained sceptical.  Amongst his novels, the following are of some relevance:\\n\\n\"Galactic Pot-Healer\"\\nA fallible alien deity summons a group of Earth craftsmen and women to a\\nremote planet to raise a giant cathedral from beneath the oceans.  When the\\ndeity begins to demand faith from the earthers, pot-healer Joe Fernwright is\\nunable to comply.  A polished, ironic and amusing novel.\\n\\n\"A Maze of Death\"\\nNoteworthy for its description of a technology-based religion.\\n\\n\"VALIS\"\\nThe schizophrenic hero searches for the hidden mysteries of Gnostic\\nChristianity after reality is fired into his brain by a pink laser beam of\\nunknown but possibly divine origin.  He is accompanied by his dogmatic and\\ndismissively atheist friend and assorted other odd characters.\\n\\n\"The Divine Invasion\"\\nGod invades Earth by making a young woman pregnant as she returns from\\nanother star system.  Unfortunately she is terminally ill, and must be\\nassisted by a dead man whose brain is wired to 24-hour easy listening music.\\n\\nMARGARET ATWOOD\\n\\n\"The Handmaid\\'s Tale\"\\nA story based on the premise that the US Congress is mysteriously\\nassassinated, and fundamentalists quickly take charge of the nation to set it\\n\"right\" again.  The book is the diary of a woman\\'s life as she tries to live\\nunder the new Christian theocracy.  Women\\'s right to own property is revoked,\\nand their bank accounts are closed; sinful luxuries are outlawed, and the\\nradio is only used for readings from the Bible.  Crimes are punished\\nretroactively: doctors who performed legal abortions in the \"old world\" are\\nhunted down and hanged.  Atwood\\'s writing style is difficult to get used to\\nat first, but the tale grows more and more chilling as it goes on.\\n\\nVARIOUS AUTHORS\\n\\n\"The Bible\"\\nThis somewhat dull and rambling work has often been criticized.  However, it\\nis probably worth reading, if only so that you\\'ll know what all the fuss is\\nabout.  It exists in many different versions, so make sure you get the one\\ntrue version.\\n\\n                             Books -- Non-fiction\\n\\nPETER DE ROSA\\n\\n\"Vicars of Christ\", Bantam Press, 1988\\nAlthough de Rosa seems to be Christian or even Catholic this is a very\\nenlighting history of papal immoralities, adulteries, fallacies etc.\\n(German translation: \"Gottes erste Diener. Die dunkle Seite des Papsttums\",\\nDroemer-Knaur, 1989)\\n\\nMICHAEL MARTIN\\n\\n\"Atheism: A Philosophical Justification\", Temple University Press,\\n Philadelphia, USA.\\nA detailed and scholarly justification of atheism.  Contains an outstanding\\nappendix defining terminology and usage in this (necessarily) tendentious\\narea.  Argues both for \"negative atheism\" (i.e. the \"non-belief in the\\nexistence of god(s)\") and also for \"positive atheism\" (\"the belief in the\\nnon-existence of god(s)\").  Includes great refutations of the most\\nchallenging arguments for god; particular attention is paid to refuting\\ncontempory theists such as Platinga and Swinburne.\\n541 pages. ISBN 0-87722-642-3 (hardcover; paperback also available)\\n\\n\"The Case Against Christianity\", Temple University Press\\nA comprehensive critique of Christianity, in which he considers\\nthe best contemporary defences of Christianity and (ultimately)\\ndemonstrates that they are unsupportable and/or incoherent.\\n273 pages. ISBN 0-87722-767-5\\n\\nJAMES TURNER\\n\\n\"Without God, Without Creed\", The Johns Hopkins University Press, Baltimore,\\n MD, USA\\nSubtitled \"The Origins of Unbelief in America\".  Examines the way in which\\nunbelief (whether agnostic or atheistic)  became a mainstream alternative\\nworld-view.  Focusses on the period 1770-1900, and while considering France\\nand Britain the emphasis is on American, and particularly New England\\ndevelopments.  \"Neither a religious history of secularization or atheism,\\nWithout God, Without Creed is, rather, the intellectual history of the fate\\nof a single idea, the belief that God exists.\" \\n316 pages. ISBN (hardcover) 0-8018-2494-X (paper) 0-8018-3407-4\\n\\nGEORGE SELDES (Editor)\\n\\n\"The great thoughts\", Ballantine Books, New York, USA\\nA \"dictionary of quotations\" of a different kind, concentrating on statements\\nand writings which, explicitly or implicitly, present the person\\'s philosophy\\nand world-view.  Includes obscure (and often suppressed) opinions from many\\npeople.  For some popular observations, traces the way in which various\\npeople expressed and twisted the idea over the centuries.  Quite a number of\\nthe quotations are derived from Cardiff\\'s \"What Great Men Think of Religion\"\\nand Noyes\\' \"Views of Religion\".\\n490 pages. ISBN (paper) 0-345-29887-X.\\n\\nRICHARD SWINBURNE\\n\\n\"The Existence of God (Revised Edition)\", Clarendon Paperbacks, Oxford\\nThis book is the second volume in a trilogy that began with \"The Coherence of\\nTheism\" (1977) and was concluded with \"Faith and Reason\" (1981).  In this\\nwork, Swinburne attempts to construct a series of inductive arguments for the\\nexistence of God.  His arguments, which are somewhat tendentious and rely\\nupon the imputation of late 20th century western Christian values and\\naesthetics to a God which is supposedly as simple as can be conceived, were\\ndecisively rejected in Mackie\\'s \"The Miracle of Theism\".  In the revised\\nedition of \"The Existence of God\", Swinburne includes an Appendix in which he\\nmakes a somewhat incoherent attempt to rebut Mackie.\\n\\nJ. L. MACKIE\\n\\n\"The Miracle of Theism\", Oxford\\nThis (posthumous) volume contains a comprehensive review of the principal\\narguments for and against the existence of God.  It ranges from the classical\\nphilosophical positions of Descartes, Anselm, Berkeley, Hume et al, through\\nthe moral arguments of Newman, Kant and Sidgwick, to the recent restatements\\nof the classical theses by Plantinga and Swinburne.  It also addresses those\\npositions which push the concept of God beyond the realm of the rational,\\nsuch as those of Kierkegaard, Kung and Philips, as well as \"replacements for\\nGod\" such as Lelie\\'s axiarchism.  The book is a delight to read - less\\nformalistic and better written than Martin\\'s works, and refreshingly direct\\nwhen compared with the hand-waving of Swinburne.\\n\\nJAMES A. HAUGHT\\n\\n\"Holy Horrors: An Illustrated History of Religious Murder and Madness\",\\n Prometheus Books\\nLooks at religious persecution from ancient times to the present day -- and\\nnot only by Christians.\\nLibrary of Congress Catalog Card Number 89-64079. 1990.\\n\\nNORM R. ALLEN, JR.\\n\\n\"African American Humanism: an Anthology\"\\nSee the listing for African Americans for Humanism above.\\n\\nGORDON STEIN\\n\\n\"An Anthology of Atheism and Rationalism\", Prometheus Books\\nAn anthology covering a wide range of subjects, including \\'The Devil, Evil\\nand Morality\\' and \\'The History of Freethought\\'.  Comprehensive bibliography.\\n\\nEDMUND D. COHEN\\n\\n\"The Mind of The Bible-Believer\", Prometheus Books\\nA study of why people become Christian fundamentalists, and what effect it\\nhas on them.\\n\\n                                Net Resources\\n\\nThere\\'s a small mail-based archive server at mantis.co.uk which carries\\narchives of old alt.atheism.moderated articles and assorted other files.  For\\nmore information, send mail to archive-server@mantis.co.uk saying\\n\\n   help\\n   send atheism/index\\n\\nand it will mail back a reply.\\n\\n\\nmathew\\n\\ufffd\\n')\n"
     ]
    }
   ],
   "source": [
    "textFilePairs = sc.wholeTextFiles(HDFS + '20_newsgroup/*')\n",
    "print(textFilePairs.count())\n",
    "print(textFilePairs.first())"
   ]
  },
  {
   "cell_type": "code",
   "execution_count": 3,
   "metadata": {},
   "outputs": [
    {
     "name": "stdout",
     "output_type": "stream",
     "text": [
      "20\n",
      "(u'sci.crypt', 1000)\n",
      "(u'comp.sys.mac.hardware', 1000)\n",
      "(u'sci.med', 1000)\n",
      "(u'comp.windows.x', 1000)\n",
      "(u'misc.forsale', 1000)\n",
      "(u'talk.politics.guns', 1000)\n",
      "(u'comp.os.ms-windows.misc', 1000)\n",
      "(u'sci.space', 1000)\n",
      "(u'rec.sport.baseball', 1000)\n",
      "(u'rec.motorcycles', 1000)\n",
      "(u'talk.politics.misc', 1000)\n",
      "(u'comp.graphics', 1000)\n",
      "(u'talk.religion.misc', 1000)\n",
      "(u'talk.politics.mideast', 1000)\n",
      "(u'comp.sys.ibm.pc.hardware', 1000)\n",
      "(u'alt.atheism', 1000)\n",
      "(u'rec.sport.hockey', 1000)\n",
      "(u'sci.electronics', 1000)\n",
      "(u'rec.autos', 1000)\n",
      "(u'soc.religion.christian', 997)\n"
     ]
    }
   ],
   "source": [
    "newsGroup = textFilePairs.map(lambda (path, content) : (path.split('/')[-2], 1)).reduceByKey(lambda a, b: a + b)\n",
    "print(newsGroup.count())\n",
    "sortedNewsGroup = newsGroup.sortBy(lambda x:x[1], ascending = False)\n",
    "for ng in sortedNewsGroup.collect():\n",
    "    print(ng)"
   ]
  },
  {
   "cell_type": "markdown",
   "metadata": {},
   "source": [
    "### Tokenization"
   ]
  },
  {
   "cell_type": "code",
   "execution_count": 4,
   "metadata": {},
   "outputs": [
    {
     "name": "stdout",
     "output_type": "stream",
     "text": [
      "425542\n",
      "['xref:', 'cantaloupe.srv.cs.cmu.edu', 'alt.atheism:49960', 'alt.atheism.moderated:713', 'news.answers:7054', 'alt.answers:126', 'path:', 'cantaloupe.srv.cs.cmu.edu!crabapple.srv.cs.cmu.edu!bb3.andrew.cmu.edu!news.sei.cmu.edu!cis.ohio-state.edu!magnus.acs.ohio-state.edu!usenet.ins.cwru.edu!agate!spool.mu.edu!uunet!pipex!ibmpcug!mantis!mathew', 'from:', 'mathew', '<mathew@mantis.co.uk>', 'newsgroups:', 'alt.atheism,alt.atheism.moderated,news.answers,alt.answers', 'subject:', 'alt.atheism', 'faq:', 'atheist', 'resources', 'summary:', 'books,', 'addresses,', 'music', '--', 'anything', 'related', 'to', 'atheism', 'keywords:', 'faq,', 'atheism,', 'books,', 'music,', 'fiction,', 'addresses,', 'contacts', 'message-id:', '<19930329115719@mantis.co.uk>', 'date:', 'mon,', '29', 'mar', '1993', '11:57:19', 'gmt', 'expires:', 'thu,', '29', 'apr', '1993', '11:57:19', 'gmt', 'followup-to:', 'alt.atheism', 'distribution:', 'world', 'organization:', 'mantis', 'consultants,', 'cambridge.', 'uk.', 'approved:', 'news-answers-request@mit.edu', 'supersedes:', '<19930301143317@mantis.co.uk>', 'lines:', '290', 'archive-name:', 'atheism/resources', 'alt-atheism-archive-name:', 'resources', 'last-modified:', '11', 'december', '1992', 'version:', '1.0', 'atheist', 'resources', 'addresses', 'of', 'atheist', 'organizations', 'usa', 'freedom', 'from', 'religion', 'foundation', 'darwin', 'fish', 'bumper', 'stickers', 'and', 'assorted', 'other', 'atheist', 'paraphernalia', 'are', 'available', 'from', 'the']\n"
     ]
    }
   ],
   "source": [
    "# split the text and convert all words to lowercase\n",
    "texts = textFilePairs.map(lambda (path, text):text.encode('utf8'))\n",
    "totalWords = texts.flatMap(lambda text:map(lambda word:word.lower(), text.replace('\\n', ' ').split()))\n",
    "print(totalWords.distinct().count())\n",
    "print(totalWords.take(100))"
   ]
  },
  {
   "cell_type": "code",
   "execution_count": 5,
   "metadata": {
    "scrolled": false
   },
   "outputs": [
    {
     "name": "stdout",
     "output_type": "stream",
     "text": [
      "['xref', 'cantaloupe', 'srv', 'cs', 'cmu', 'edu', 'alt', 'atheism', '49960', 'alt', 'atheism', 'moderated', '713', 'news', 'answers', '7054', 'alt', 'answers', '126', 'path', 'cantaloupe', 'srv', 'cs', 'cmu', 'edu', 'crabapple', 'srv', 'cs', 'cmu', 'edu', 'bb3', 'andrew', 'cmu', 'edu', 'news', 'sei', 'cmu', 'edu', 'cis', 'ohio', 'state', 'edu', 'magnus', 'acs', 'ohio', 'state', 'edu', 'usenet', 'ins', 'cwru', 'edu', 'agate', 'spool', 'mu', 'edu', 'uunet', 'pipex', 'ibmpcug', 'mantis', 'mathew', 'from', 'mathew', 'mathew', 'mantis', 'co', 'uk', 'newsgroups', 'alt', 'atheism', 'alt', 'atheism', 'moderated', 'news', 'answers', 'alt', 'answers', 'subject', 'alt', 'atheism', 'faq', 'atheist', 'resources', 'summary', 'books', 'addresses', 'music', 'anything', 'related', 'to', 'atheism', 'keywords', 'faq', 'atheism', 'books', 'music', 'fiction', 'addresses', 'contacts', 'message', 'id']\n"
     ]
    }
   ],
   "source": [
    "# The preceding simple approach results in a lot of tokens and does not flter out many nonword characters \n",
    "#  We can do this by splitting each raw document on nonword characters using a regular expression pattern\n",
    "import re\n",
    "noPunctuationWords = texts.flatMap(lambda text:map(lambda word:word.lower(), re.split('\\W+', text)))\n",
    "print(noPunctuationWords.take(100))"
   ]
  },
  {
   "cell_type": "code",
   "execution_count": 6,
   "metadata": {},
   "outputs": [
    {
     "name": "stdout",
     "output_type": "stream",
     "text": [
      "['xref', 'cantaloupe', 'srv', 'cs', 'cmu', 'edu', 'alt', 'atheism', 'alt', 'atheism', 'moderated', 'news', 'answers', 'alt', 'answers', 'path', 'cantaloupe', 'srv', 'cs', 'cmu', 'edu', 'crabapple', 'srv', 'cs', 'cmu', 'edu', 'andrew', 'cmu', 'edu', 'news', 'sei', 'cmu', 'edu', 'cis', 'ohio', 'state', 'edu', 'magnus', 'acs', 'ohio', 'state', 'edu', 'usenet', 'ins', 'cwru', 'edu', 'agate', 'spool', 'mu', 'edu', 'uunet', 'pipex', 'ibmpcug', 'mantis', 'mathew', 'from', 'mathew', 'mathew', 'mantis', 'co', 'uk', 'newsgroups', 'alt', 'atheism', 'alt', 'atheism', 'moderated', 'news', 'answers', 'alt', 'answers', 'subject', 'alt', 'atheism', 'faq', 'atheist', 'resources', 'summary', 'books', 'addresses', 'music', 'anything', 'related', 'to', 'atheism', 'keywords', 'faq', 'atheism', 'books', 'music', 'fiction', 'addresses', 'contacts', 'message', 'id', 'mantis', 'co', 'uk', 'date', 'mon']\n"
     ]
    }
   ],
   "source": [
    "# filter out string with digits\n",
    "noDigitWords = noPunctuationWords.filter(lambda word: not re.search(r'\\d', word))\n",
    "print(noDigitWords.take(100))"
   ]
  },
  {
   "cell_type": "markdown",
   "metadata": {},
   "source": [
    "### Remove stop words"
   ]
  },
  {
   "cell_type": "markdown",
   "metadata": {},
   "source": [
    "We can take a look at some of the tokens in our corpus that have the highest occurrence \n",
    "across all documents to get an idea about some other stop words to exclude"
   ]
  },
  {
   "cell_type": "code",
   "execution_count": 7,
   "metadata": {
    "scrolled": true
   },
   "outputs": [
    {
     "name": "stdout",
     "output_type": "stream",
     "text": [
      "[('the', 256555), ('edu', 164007), ('to', 133963), ('of', 122352), ('a', 111811), ('and', 102358), ('i', 92113), ('in', 87008), ('is', 75575), ('that', 70765), ('ax', 62416), ('it', 58816), ('cmu', 52409), ('for', 50392), ('com', 50158), ('you', 48181), ('cs', 45142), ('from', 39705), ('s', 38681), ('on', 35559)]\n"
     ]
    }
   ],
   "source": [
    "wordCount = noDigitWords.map(lambda word:(word, 1)).reduceByKey(lambda a, b : a+b)\n",
    "sortedWordCount = wordCount.sortBy(lambda (k, v):v, ascending = False)\n",
    "print(sortedWordCount.take(20))"
   ]
  },
  {
   "cell_type": "code",
   "execution_count": 8,
   "metadata": {
    "scrolled": false
   },
   "outputs": [
    {
     "name": "stdout",
     "output_type": "stream",
     "text": [
      "before filtering stop words: 111525\n",
      "after filtering stop words:111496\n",
      "[('edu', 164007), ('i', 92113), ('ax', 62416), ('cmu', 52409), ('com', 50158), ('you', 48181), ('cs', 45142), ('news', 34309), ('srv', 32359), ('t', 32121), ('cantaloupe', 26048), ('net', 25459), ('message', 21954), ('subject', 21589), ('lines', 20894), ('date', 20787), ('id', 20695), ('apr', 20510), ('newsgroups', 20404), ('path', 20369)]\n",
      "(<type 'set'>, 40808)\n"
     ]
    }
   ],
   "source": [
    "stopWords = {\"the\",\"a\",\"s\",\"an\",\"of\",\"or\",\"in\",\"for\",\"by\",\"on\",\"but\", \"is\", \"not\",\"with\", \"as\", \"was\", \"if\",\n",
    "             \"they\", \"are\", \"this\", \"and\", \"it\", \"have\", \"from\", \"at\", \"my\",\"be\", \"that\", \"to\"}\n",
    "print('before filtering stop words: {0}'.format(sortedWordCount.count()))\n",
    "filteredSortedWordCount = sortedWordCount.filter(lambda (k, v): k not in stopWords)\n",
    "print('after filtering stop words:{0}'.format(filteredSortedWordCount.count()))\n",
    "print(filteredSortedWordCount.take(20))\n",
    "rareWords = set(filteredSortedWordCount.filter(lambda (k,v): v==1).collect())\n",
    "print(type(rareWords), len(rareWords))"
   ]
  },
  {
   "cell_type": "markdown",
   "metadata": {},
   "source": [
    "One other fltering step that we will use is removing any tokens that are only\n",
    "one character in length. The reasoning behind this is similar to removing stop\n",
    "words—these single-character tokens are unlikely to be informative in our text\n",
    "model and can further reduce the feature dimension and model size"
   ]
  },
  {
   "cell_type": "code",
   "execution_count": 9,
   "metadata": {},
   "outputs": [
    {
     "name": "stdout",
     "output_type": "stream",
     "text": [
      "111470\n",
      "[('edu', 164007), ('ax', 62416), ('cmu', 52409), ('com', 50158), ('you', 48181), ('cs', 45142), ('news', 34309), ('srv', 32359), ('cantaloupe', 26048), ('net', 25459), ('message', 21954), ('subject', 21589), ('lines', 20894), ('date', 20787), ('id', 20695), ('apr', 20510), ('newsgroups', 20404), ('path', 20369), ('can', 20028), ('organization', 19840)]\n"
     ]
    }
   ],
   "source": [
    "filteredSortedWordCount = filteredSortedWordCount.filter(lambda (k, v): len(k) > 1)\n",
    "print(filteredSortedWordCount.count())\n",
    "print(filteredSortedWordCount.take(20))"
   ]
  },
  {
   "cell_type": "markdown",
   "metadata": {},
   "source": [
    "### Excluding terms based on frequency"
   ]
  },
  {
   "cell_type": "markdown",
   "metadata": {},
   "source": [
    "It is also a common practice to exclude terms during tokenization when their overall\n",
    "occurrence in the corpus is very low"
   ]
  },
  {
   "cell_type": "code",
   "execution_count": 10,
   "metadata": {
    "scrolled": true
   },
   "outputs": [
    {
     "name": "stdout",
     "output_type": "stream",
     "text": [
      "[('yermut', 1), ('sowell', 1), ('trawling', 1), ('kalmar', 1), ('jjjjjjc', 1), ('igua', 1), ('propounded', 1), ('_xogkyrzaup', 1), ('naturopathic', 1), ('neimoller', 1), ('_kk', 1), ('_km', 1), ('mc_rssqp_fqod', 1), ('inpropable', 1), ('fachtagung', 1), ('macedoine', 1), ('durocher', 1), ('antannas', 1), ('mycdb', 1), ('rlii', 1)]\n"
     ]
    }
   ],
   "source": [
    "print(filteredSortedWordCount.takeOrdered(20, lambda (k, v):v))"
   ]
  },
  {
   "cell_type": "markdown",
   "metadata": {},
   "source": [
    "As we can see, there are many terms that only occur once in the entire corpus.\n",
    "Since typically we want to use our extracted features for other tasks such as\n",
    "document similarity or machine learning models, tokens that only occur once are\n",
    "not useful to learn from, as we will not have enough training data relative to these\n",
    "tokens. We can apply another filter to exclude these rare tokens"
   ]
  },
  {
   "cell_type": "code",
   "execution_count": 11,
   "metadata": {
    "scrolled": false
   },
   "outputs": [
    {
     "name": "stdout",
     "output_type": "stream",
     "text": [
      "before filtering words that appear once: 111470\n",
      "after filtering words that appear once:70662\n",
      "[('tilton', 2), ('netcdf', 2), ('outragious', 2), ('fawr', 2), ('sation', 2), ('yougoslavie', 2), ('gruel', 2), ('originality', 2), ('_ki', 2), ('xjudging', 2), ('lmx', 2), ('centimeter', 2), ('phenylanine', 2), ('wiseguy', 2), ('natured', 2), ('naviagtion', 2), ('vecchio', 2), ('sig_alrm', 2), ('toowoomba', 2), ('millimetres', 2)]\n"
     ]
    }
   ],
   "source": [
    "print('before filtering words that appear once: {0}'.format(filteredSortedWordCount.count()))\n",
    "filteredSortedWordCount = filteredSortedWordCount.filter(lambda (k, v) : v > 1)\n",
    "print('after filtering words that appear once:{0}'.format(filteredSortedWordCount.count()))\n",
    "print(filteredSortedWordCount.takeOrdered(20, lambda (k, v):v))"
   ]
  },
  {
   "cell_type": "code",
   "execution_count": 12,
   "metadata": {
    "scrolled": true
   },
   "outputs": [
    {
     "name": "stdout",
     "output_type": "stream",
     "text": [
      "(19997, 19997)\n",
      "(1264, 1264)\n",
      "['xref', 'cantaloupe', 'srv', 'cs', 'cmu', 'edu', 'alt', 'atheism', 'alt', 'atheism', 'moderated', 'news', 'answers', 'alt', 'answers', 'path', 'cantaloupe', 'srv', 'cs', 'cmu', 'edu', 'crabapple', 'srv', 'cs', 'cmu', 'edu', 'andrew', 'cmu', 'edu', 'news', 'sei', 'cmu', 'edu', 'cis', 'ohio', 'state', 'edu', 'magnus', 'acs', 'ohio', 'state', 'edu', 'usenet', 'ins', 'cwru', 'edu', 'agate', 'spool', 'mu', 'edu', 'uunet', 'pipex', 'ibmpcug', 'mantis', 'mathew', 'mathew', 'mathew', 'mantis', 'co', 'uk', 'newsgroups', 'alt', 'atheism', 'alt', 'atheism', 'moderated', 'news', 'answers', 'alt', 'answers', 'subject', 'alt', 'atheism', 'faq', 'atheist', 'resources', 'summary', 'books', 'addresses', 'music', 'anything', 'related', 'atheism', 'keywords', 'faq', 'atheism', 'books', 'music', 'fiction', 'addresses', 'contacts', 'message', 'id', 'mantis', 'co', 'uk', 'date', 'mon', 'mar', 'gmt', 'expires', 'thu', 'apr', 'gmt', 'followup', 'alt', 'atheism', 'distribution', 'world', 'organization', 'mantis', 'consultants', 'cambridge', 'uk', 'approved', 'news', 'answers', 'request', 'mit', 'edu', 'supersedes', 'mantis', 'co', 'uk', 'lines', 'archive', 'name', 'atheism', 'resources', 'alt', 'atheism', 'archive', 'name', 'resources', 'last', 'modified', 'december', 'version', 'atheist', 'resources', 'addresses', 'atheist', 'organizations', 'usa', 'freedom', 'religion', 'foundation', 'darwin', 'fish', 'bumper', 'stickers', 'assorted', 'other', 'atheist', 'paraphernalia', 'available', 'freedom', 'religion', 'foundation', 'us', 'write', 'ffrf', 'box', 'madison', 'wi', 'telephone', 'evolution', 'designs', 'evolution', 'designs', 'sell', 'darwin', 'fish', 'fish', 'symbol', 'like', 'ones', 'christians', 'stick', 'their', 'cars', 'feet', 'word', 'darwin', 'written', 'inside', 'deluxe', 'moulded', 'plastic', 'fish', 'postpaid', 'us', 'write', 'evolution', 'designs', 'laurel', 'canyon', 'north', 'hollywood', 'ca', 'people', 'san', 'francisco', 'bay', 'area', 'can', 'get', 'darwin', 'fish', 'lynn', 'gold', 'try', 'mailing', 'figmo', 'netcom', 'com', 'net', 'people', 'who', 'go', 'lynn', 'directly', 'price', 'per', 'fish', 'american', 'atheist', 'press', 'aap', 'publish', 'various', 'atheist', 'books', 'critiques', 'bible', 'lists', 'biblical', 'contradictions', 'so', 'one', 'such', 'book', 'bible', 'handbook', 'ball', 'foote', 'american', 'atheist', 'press', 'pp', 'isbn', 'edition', 'bible', 'contradictions', 'absurdities', 'atrocities', 'immoralities', 'contains', 'ball', 'foote', 'bible', 'contradicts', 'itself', 'aap', 'based', 'king', 'james', 'version', 'bible', 'write', 'american', 'atheist', 'press', 'box', 'austin', 'tx', 'cameron', 'road', 'austin', 'tx', 'telephone', 'fax', 'prometheus', 'books', 'sell', 'books', 'including', 'haught', 'holy', 'horrors', 'see', 'below', 'write', 'east', 'amherst', 'street', 'buffalo', 'new', 'york', 'telephone', 'alternate', 'address', 'which', 'may', 'newer', 'older', 'prometheus', 'books', 'glenn', 'drive', 'buffalo', 'ny', 'african', 'americans', 'humanism', 'organization', 'promoting', 'black', 'secular', 'humanism', 'uncovering', 'history', 'black', 'freethought', 'publish', 'quarterly', 'newsletter', 'aah', 'examiner', 'write', 'norm', 'allen', 'jr', 'african', 'americans', 'humanism', 'box', 'buffalo', 'ny', 'united', 'kingdom', 'rationalist', 'press', 'association', 'national', 'secular', 'society', 'islington', 'high', 'street', 'holloway', 'road', 'london', 'london', 'british', 'humanist', 'association', 'south', 'place', 'ethical', 'society', 'lamb', 'conduit', 'passage', 'conway', 'hall', 'london', 'red', 'lion', 'square', 'london', 'fax', 'national', 'secular', 'society', 'publish', 'freethinker', 'monthly', 'magazine', 'founded', 'germany', 'ibka', 'internationaler', 'bund', 'der', 'konfessionslosen', 'und', 'atheisten', 'postfach', 'berlin', 'germany', 'ibka', 'publish', 'journal', 'miz', 'materialien', 'und', 'informationen', 'zur', 'zeit', 'politisches', 'journal', 'der', 'konfessionslosesn', 'und', 'atheisten', 'hrsg', 'ibka', 'miz', 'vertrieb', 'postfach', 'berlin', 'germany', 'atheist', 'books', 'write', 'ibdk', 'internationaler', 'ucherdienst', 'der', 'konfessionslosen', 'postfach', 'hannover', 'germany', 'telephone', 'books', 'fiction', 'thomas', 'disch', 'santa', 'claus', 'compromise', 'short', 'story', 'ultimate', 'proof', 'santa', 'exists', 'all', 'characters', 'events', 'fictitious', 'any', 'similarity', 'living', 'dead', 'gods', 'uh', 'well', 'walter', 'miller', 'jr', 'canticle', 'leibowitz', 'one', 'gem', 'post', 'atomic', 'doomsday', 'novel', 'monks', 'who', 'spent', 'their', 'lives', 'copying', 'blueprints', 'saint', 'leibowitz', 'filling', 'sheets', 'paper', 'ink', 'leaving', 'white', 'lines', 'letters', 'edgar', 'pangborn', 'davy', 'post', 'atomic', 'doomsday', 'novel', 'set', 'clerical', 'states', 'church', 'example', 'forbids', 'anyone', 'produce', 'describe', 'use', 'any', 'substance', 'containing', 'atoms', 'philip', 'dick', 'philip', 'dick', 'dick', 'wrote', 'many', 'philosophical', 'thought', 'provoking', 'short', 'stories', 'novels', 'his', 'stories', 'bizarre', 'times', 'very', 'approachable', 'he', 'wrote', 'mainly', 'sf', 'he', 'wrote', 'about', 'people', 'truth', 'religion', 'rather', 'than', 'technology', 'although', 'he', 'often', 'believed', 'he', 'had', 'met', 'some', 'sort', 'god', 'he', 'remained', 'sceptical', 'amongst', 'his', 'novels', 'following', 'some', 'relevance', 'galactic', 'pot', 'healer', 'fallible', 'alien', 'deity', 'summons', 'group', 'earth', 'craftsmen', 'women', 'remote', 'planet', 'raise', 'giant', 'cathedral', 'beneath', 'oceans', 'when', 'deity', 'begins', 'demand', 'faith', 'earthers', 'pot', 'healer', 'joe', 'fernwright', 'unable', 'comply', 'polished', 'ironic', 'amusing', 'novel', 'maze', 'death', 'noteworthy', 'its', 'description', 'technology', 'based', 'religion', 'valis', 'schizophrenic', 'hero', 'searches', 'hidden', 'mysteries', 'gnostic', 'christianity', 'after', 'reality', 'fired', 'into', 'his', 'brain', 'pink', 'laser', 'beam', 'unknown', 'possibly', 'divine', 'origin', 'he', 'accompanied', 'his', 'dogmatic', 'dismissively', 'atheist', 'friend', 'assorted', 'other', 'odd', 'characters', 'divine', 'invasion', 'god', 'invades', 'earth', 'making', 'young', 'woman', 'pregnant', 'she', 'returns', 'another', 'star', 'system', 'unfortunately', 'she', 'terminally', 'ill', 'must', 'assisted', 'dead', 'man', 'whose', 'brain', 'wired', 'hour', 'easy', 'listening', 'music', 'margaret', 'atwood', 'handmaid', 'tale', 'story', 'based', 'premise', 'us', 'congress', 'mysteriously', 'assassinated', 'fundamentalists', 'quickly', 'take', 'charge', 'nation', 'set', 'right', 'again', 'book', 'diary', 'woman', 'life', 'she', 'tries', 'live', 'under', 'new', 'christian', 'theocracy', 'women', 'right', 'own', 'property', 'revoked', 'their', 'bank', 'accounts', 'closed', 'sinful', 'luxuries', 'outlawed', 'radio', 'only', 'used', 'readings', 'bible', 'crimes', 'punished', 'retroactively', 'doctors', 'who', 'performed', 'legal', 'abortions', 'old', 'world', 'hunted', 'down', 'hanged', 'atwood', 'writing', 'style', 'difficult', 'get', 'used', 'first', 'tale', 'grows', 'more', 'more', 'chilling', 'goes', 'various', 'authors', 'bible', 'somewhat', 'dull', 'rambling', 'work', 'has', 'often', 'been', 'criticized', 'however', 'probably', 'worth', 'reading', 'only', 'so', 'you', 'll', 'know', 'what', 'all', 'fuss', 'about', 'exists', 'many', 'different', 'versions', 'so', 'make', 'sure', 'you', 'get', 'one', 'true', 'version', 'books', 'non', 'fiction', 'peter', 'de', 'rosa', 'vicars', 'christ', 'bantam', 'press', 'although', 'de', 'rosa', 'seems', 'christian', 'even', 'catholic', 'very', 'enlighting', 'history', 'papal', 'immoralities', 'adulteries', 'fallacies', 'etc', 'german', 'translation', 'gottes', 'erste', 'diener', 'die', 'dunkle', 'seite', 'des', 'papsttums', 'droemer', 'knaur', 'michael', 'martin', 'atheism', 'philosophical', 'justification', 'temple', 'university', 'press', 'philadelphia', 'usa', 'detailed', 'scholarly', 'justification', 'atheism', 'contains', 'outstanding', 'appendix', 'defining', 'terminology', 'usage', 'necessarily', 'tendentious', 'area', 'argues', 'both', 'negative', 'atheism', 'non', 'belief', 'existence', 'god', 'also', 'positive', 'atheism', 'belief', 'non', 'existence', 'god', 'includes', 'great', 'refutations', 'most', 'challenging', 'arguments', 'god', 'particular', 'attention', 'paid', 'refuting', 'contempory', 'theists', 'such', 'platinga', 'swinburne', 'pages', 'isbn', 'hardcover', 'paperback', 'also', 'available', 'case', 'against', 'christianity', 'temple', 'university', 'press', 'comprehensive', 'critique', 'christianity', 'which', 'he', 'considers', 'best', 'contemporary', 'defences', 'christianity', 'ultimately', 'demonstrates', 'unsupportable', 'incoherent', 'pages', 'isbn', 'james', 'turner', 'without', 'god', 'without', 'creed', 'johns', 'hopkins', 'university', 'press', 'baltimore', 'md', 'usa', 'subtitled', 'origins', 'unbelief', 'america', 'examines', 'way', 'which', 'unbelief', 'whether', 'agnostic', 'atheistic', 'became', 'mainstream', 'alternative', 'world', 'view', 'focusses', 'period', 'while', 'considering', 'france', 'britain', 'emphasis', 'american', 'particularly', 'new', 'england', 'developments', 'neither', 'religious', 'history', 'secularization', 'atheism', 'without', 'god', 'without', 'creed', 'rather', 'intellectual', 'history', 'fate', 'single', 'idea', 'belief', 'god', 'exists', 'pages', 'isbn', 'hardcover', 'paper', 'george', 'seldes', 'editor', 'great', 'thoughts', 'ballantine', 'books', 'new', 'york', 'usa', 'dictionary', 'quotations', 'different', 'kind', 'concentrating', 'statements', 'writings', 'which', 'explicitly', 'implicitly', 'present', 'person', 'philosophy', 'world', 'view', 'includes', 'obscure', 'often', 'suppressed', 'opinions', 'many', 'people', 'some', 'popular', 'observations', 'traces', 'way', 'which', 'various', 'people', 'expressed', 'twisted', 'idea', 'over', 'centuries', 'quite', 'number', 'quotations', 'derived', 'cardiff', 'what', 'great', 'men', 'think', 'religion', 'noyes', 'views', 'religion', 'pages', 'isbn', 'paper', 'richard', 'swinburne', 'existence', 'god', 'revised', 'edition', 'clarendon', 'paperbacks', 'oxford', 'book', 'second', 'volume', 'trilogy', 'began', 'coherence', 'theism', 'concluded', 'faith', 'reason', 'work', 'swinburne', 'attempts', 'construct', 'series', 'inductive', 'arguments', 'existence', 'god', 'his', 'arguments', 'which', 'somewhat', 'tendentious', 'rely', 'upon', 'imputation', 'late', 'century', 'western', 'christian', 'values', 'aesthetics', 'god', 'which', 'supposedly', 'simple', 'can', 'conceived', 'were', 'decisively', 'rejected', 'mackie', 'miracle', 'theism', 'revised', 'edition', 'existence', 'god', 'swinburne', 'includes', 'appendix', 'which', 'he', 'makes', 'somewhat', 'incoherent', 'attempt', 'rebut', 'mackie', 'mackie', 'miracle', 'theism', 'oxford', 'posthumous', 'volume', 'contains', 'comprehensive', 'review', 'principal', 'arguments', 'against', 'existence', 'god', 'ranges', 'classical', 'philosophical', 'positions', 'descartes', 'anselm', 'berkeley', 'hume', 'et', 'al', 'through', 'moral', 'arguments', 'newman', 'kant', 'sidgwick', 'recent', 'restatements', 'classical', 'theses', 'plantinga', 'swinburne', 'also', 'addresses', 'those', 'positions', 'which', 'push', 'concept', 'god', 'beyond', 'realm', 'rational', 'such', 'those', 'kierkegaard', 'kung', 'philips', 'well', 'replacements', 'god', 'such', 'lelie', 'axiarchism', 'book', 'delight', 'read', 'less', 'formalistic', 'better', 'written', 'than', 'martin', 'works', 'refreshingly', 'direct', 'when', 'compared', 'hand', 'waving', 'swinburne', 'james', 'haught', 'holy', 'horrors', 'illustrated', 'history', 'religious', 'murder', 'madness', 'prometheus', 'books', 'looks', 'religious', 'persecution', 'ancient', 'times', 'present', 'day', 'only', 'christians', 'library', 'congress', 'catalog', 'card', 'number', 'norm', 'allen', 'jr', 'african', 'american', 'humanism', 'anthology', 'see', 'listing', 'african', 'americans', 'humanism', 'above', 'gordon', 'stein', 'anthology', 'atheism', 'rationalism', 'prometheus', 'books', 'anthology', 'covering', 'wide', 'range', 'subjects', 'including', 'devil', 'evil', 'morality', 'history', 'freethought', 'comprehensive', 'bibliography', 'edmund', 'cohen', 'mind', 'bible', 'believer', 'prometheus', 'books', 'study', 'why', 'people', 'become', 'christian', 'fundamentalists', 'what', 'effect', 'has', 'them', 'net', 'resources', 'there', 'small', 'mail', 'based', 'archive', 'server', 'mantis', 'co', 'uk', 'which', 'carries', 'archives', 'old', 'alt', 'atheism', 'moderated', 'articles', 'assorted', 'other', 'files', 'more', 'information', 'send', 'mail', 'archive', 'server', 'mantis', 'co', 'uk', 'saying', 'help', 'send', 'atheism', 'index', 'will', 'mail', 'back', 'reply', 'mathew']\n"
     ]
    }
   ],
   "source": [
    "# combine all the processing procedure above to  tranfrom each document to a sequence of tokens\n",
    "def tokenize(text):\n",
    "    global stopWords, rareWords\n",
    "    wordList = [word.lower() for word in re.split('\\W+', text)]\n",
    "    wordList = filter(lambda word : not re.search(r'\\d', word), wordList)\n",
    "    wordList = filter(lambda word : word not in stopWords, wordList)\n",
    "    wordList = filter(lambda word : word not in rareWords, wordList)\n",
    "    wordList = filter(lambda word : len(word) > 1, wordList)\n",
    "    return wordList\n",
    "    \n",
    "tokens_ = texts.map(lambda text :map(lambda word:word.lower(), re.split('\\W+', text)))\\\n",
    "               .map(lambda wordList: filter(lambda word: not re.search(r'\\d', word), wordList))\\\n",
    "               .map(lambda wordList: filter(lambda word: word not in stopWords, wordList))\\\n",
    "               .map(lambda wordList: filter(lambda word: word not in rareWords, wordList))\\\n",
    "               .map(lambda wordList: filter(lambda word: len(word)>1, wordList))\n",
    "                \n",
    "tokens = texts.map(lambda text : tokenize(text))\n",
    "print(tokens.count(), tokens_.count())\n",
    "print(len(tokens.first()), len(tokens_.first()))\n",
    "print(tokens.first())"
   ]
  },
  {
   "cell_type": "markdown",
   "metadata": {},
   "source": [
    "### A note about stemming"
   ]
  },
  {
   "cell_type": "markdown",
   "metadata": {},
   "source": [
    "A common step in text processing and tokenization is stemming. **This is the conversion\n",
    "of whole words to a base form (called a word stem)**. For example, plurals might be\n",
    "converted to singular (dogs becomes dog), and forms such as walking and walker might\n",
    "become walk. Stemming can become quite complex and is typically handled with\n",
    "specialized NLP or search engine software (such as NLTK, OpenNLP, and Lucene,\n",
    "for example). We will ignore stemming for the purpose of our example here."
   ]
  },
  {
   "cell_type": "markdown",
   "metadata": {},
   "source": [
    "# Training a TF-IDF model"
   ]
  },
  {
   "cell_type": "markdown",
   "metadata": {},
   "source": [
    "We will now use MLlib to transform each document, in the form of processed\n",
    "tokens, into a vector representation. The frst step will be to **use the HashingTF\n",
    "implementation, which makes use of feature hashing to map each token in the input\n",
    "text to an index in the vector of term frequencies.** Then, we will compute the global\n",
    "IDF and use it to transform the term frequency vectors into TF-IDF vectors"
   ]
  },
  {
   "cell_type": "code",
   "execution_count": 13,
   "metadata": {},
   "outputs": [],
   "source": [
    "from pyspark.mllib.feature import HashingTF, IDF\n",
    "# ref: https://spark.apache.org/docs/2.1.1/mllib-feature-extraction.html\n",
    "dim = pow(2, 17) # 2^17 > 70662\n",
    "\n",
    "# The transform function of HashingTF maps each input document \n",
    "# that is, a sequence of tokens to an MLlib Vector.\n",
    "hashingTF = HashingTF(dim)\n",
    "tf = hashingTF.transform(tokens)\n",
    "\n",
    "# While applying HashingTF only needs a single pass to the data, applying IDF needs two passes:\n",
    "# First to compute the IDF vector and second to scale the term frequencies by IDF.\n",
    "tf.cache()\n",
    "idf = IDF().fit(tf)\n",
    "tfidf = idf.transform(tf)"
   ]
  },
  {
   "cell_type": "code",
   "execution_count": 14,
   "metadata": {},
   "outputs": [
    {
     "name": "stdout",
     "output_type": "stream",
     "text": [
      "(<class 'pyspark.mllib.linalg.SparseVector'>, 131072, 788)\n",
      "[  1.2445212   13.05128389   2.9383072    7.60080245   6.60755068\n",
      "   1.53191401   2.13460871   3.18437439   2.71951683   4.32743844]\n",
      "[ 180  308 1025 1358 1542 1580 1595 2263 2424 2805]\n"
     ]
    }
   ],
   "source": [
    "TFIDFDoc = tfidf.first()\n",
    "print(type(TFIDFDoc), TFIDFDoc.size, TFIDFDoc.values.size)\n",
    "print(TFIDFDoc.values[:10])\n",
    "print(TFIDFDoc.indices[:10])"
   ]
  },
  {
   "cell_type": "markdown",
   "metadata": {},
   "source": [
    "We can see that the dimension of each sparse vector of term frequencies is 262144 (or 2^18 as we specifed).\n",
    "However, the number on non-zero entries in the vector is only 788. \n",
    "The last two lines of the output show the tfidf and vector indexes for the first few entries in the vector"
   ]
  },
  {
   "cell_type": "code",
   "execution_count": 15,
   "metadata": {},
   "outputs": [],
   "source": [
    "# spark.mllib's IDF implementation provides an option for ignoring terms\n",
    "# which occur in less than a minimum number of documents.\n",
    "# In such cases, the IDF for these terms is set to 0.\n",
    "# This feature can be used by passing the minDocFreq value to the IDF constructor.\n",
    "idfIgnore = IDF(minDocFreq=2).fit(tf)\n",
    "tfidfIgnore = idfIgnore.transform(tf)"
   ]
  },
  {
   "cell_type": "markdown",
   "metadata": {},
   "source": [
    "## Analyzing the TF-IDF weightings"
   ]
  },
  {
   "cell_type": "code",
   "execution_count": 16,
   "metadata": {},
   "outputs": [
    {
     "name": "stdout",
     "output_type": "stream",
     "text": [
      "(0.0, 71443.118724658925)\n"
     ]
    }
   ],
   "source": [
    "# First, we can compute the minimum and maximum TF-IDF weights across the entire corpus\n",
    "minMaxTFIDF = tfidf.map(lambda tfidfDoc: (min(tfidfDoc.values), max(tfidfDoc.values)))\\\n",
    "                   .reduce(lambda (min1, max1), (min2, max2): (min(min1, min2), max(max1, max2)))\n",
    "print(minMaxTFIDF)"
   ]
  },
  {
   "cell_type": "code",
   "execution_count": 17,
   "metadata": {},
   "outputs": [
    {
     "name": "stdout",
     "output_type": "stream",
     "text": [
      "[ 8.11162808  7.01301579  9.21024037]\n"
     ]
    }
   ],
   "source": [
    "# TF-IDF weighting will tend to assign a lower weighting to common terms. \n",
    "# To see this, we can compute the TF-IDF representation for a few of the terms that appear in\n",
    "# the list of top occurrences that we previously computed, such as you, do, and we\n",
    "common = sc.parallelize(['you', 'do', 'we'])\n",
    "tfCommon = hashingTF.transform(common)\n",
    "tfidfCommon = idf.transform(tfCommon)\n",
    "print(tfidfCommon.first().values)"
   ]
  },
  {
   "cell_type": "code",
   "execution_count": 18,
   "metadata": {},
   "outputs": [
    {
     "name": "stdout",
     "output_type": "stream",
     "text": [
      "[  9.21024037   9.90338755  23.11848891   8.80477526   9.90338755\n",
      "   9.21024037   8.51709319]\n"
     ]
    }
   ],
   "source": [
    "# Now, let's apply the same transformation to a few less common terms that we might\n",
    "# intuitively associate with being more linked to specifc topics or concepts\n",
    "uncommon = sc.parallelize(['telescope', 'legislation', 'investment'])\n",
    "tfUncommon = hashingTF.transform(uncommon)\n",
    "tfidfUncommon = idf.transform(tfUncommon)\n",
    "print(tfidfUncommon.first().values)"
   ]
  },
  {
   "cell_type": "markdown",
   "metadata": {},
   "source": [
    "# Using a TF-IDF model"
   ]
  },
  {
   "cell_type": "markdown",
   "metadata": {},
   "source": [
    "**While we often refer to training a TF-IDF model, it is actually a feature extraction process or transformation rather than a machine learning model. **TF-IDF weighting is often used as a preprocessing step for other models, such as dimensionality reduction, classifcation, or regression.\n",
    "\n",
    "To illustrate the potential uses of TF-IDF weighting, we will explore two examples.\n",
    "The frst is using the TF-IDF vectors to compute document similarity, while the\n",
    "second involves training a multilabel classifcation model with the TF-IDF vectors as\n",
    "input features"
   ]
  },
  {
   "cell_type": "markdown",
   "metadata": {},
   "source": [
    "## Document similarity with the 20 Newsgroups dataset and TF-IDF features"
   ]
  },
  {
   "cell_type": "code",
   "execution_count": 19,
   "metadata": {
    "scrolled": true
   },
   "outputs": [
    {
     "name": "stdout",
     "output_type": "stream",
     "text": [
      "Newsgroups: rec.sport.hockey\n",
      "Path: cantaloupe.srv.cs.cmu.edu!crabapple.srv.cs.cmu.edu!fs7.ece.cmu.edu!europa.eng.gtefsd.com!howland.reston.ans.net!spool.mu.edu!torn!newshub.ccs.yorku.ca!ists!stpl.ists.ca!dchhabra\n",
      "From: dchhabra@stpl.ists.ca (Deepak Chhabra)\n",
      "Subject: Superstars and attendance (was Teemu Selanne, was +/- leaders)\n",
      "Message-ID: <1993Apr5.182124.17415@ists.ists.ca>\n",
      "Sender: news@ists.ists.ca (News Subsystem)\n",
      "Nntp-Posting-Host: stpl.ists.ca\n",
      "Organization: Solar Terresterial Physics Laboratory, ISTS\n",
      "Distribution: na\n",
      "Date: Mon, 5 Apr 93 18:21:24 GMT\n",
      "Lines: 115\n",
      "\n",
      "\n",
      "Dean J. Falcione (posting from jrmst+8@pitt.edu) writes:\n",
      "[I wrote:]\n",
      "\n",
      ">>When the Pens got Mario, granted there was big publicity, etc, etc,\n",
      ">>and interest was immediately generated.  Gretzky did the same thing for LA. \n",
      ">>However, imnsho, neither team would have seen a marked improvement in\n",
      ">>attendance if the team record did not improve.  In the year before Lemieux\n",
      ">>came, Pittsburgh finished with 38 points.  Following his arrival, the Pens\n",
      ">>finished with 53, 76, 72, 81, 87, 72, 88, and 87 points, with a couple of\n",
      "                          ^^\n",
      ">>Stanley Cups thrown in.\n",
      "      \n",
      ">It was at this point the Pens attendance was near capacity (34 out of 40 \n",
      ">sellouts) yet they hadn't made the playoffs since 1982.  How do you explain\n",
      ">a 6th place team breaking attendance records when they haven't been to the\n",
      ">playoffs in 7 years?  Mario Lemieux is the explanation, IMHO.  \n",
      "\n",
      ">You could make a case that the *expectation* of an improving team that\n",
      ">would make the playoffs is the reason. \n",
      "\n",
      "Funny you should mention it...this is exactly the case I was going to make.\n",
      "\n",
      ">But I think the reason is Lemieux\n",
      ">had a 168 point season and was the first non-Gretzky to win the Hart and\n",
      ">Ross since 1980.  People turned out to watch him play. \n",
      "\n",
      "I will grant that a star like Mario will draw fans, even if the team sucks. \n",
      "But this is short term only; I still do not think the attendance increase \n",
      "will last, unless the team is a winning/competitive/improving/butt-kicking\n",
      "one.  Pittsburgh was still getting better, so people continued to support\n",
      "them.  If they suddenly dropped to, say, 50 points, you'd have knee surgery\n",
      "for some of the people jumping off the bandwagon.  \n",
      "\n",
      ">Also, the following year (88-89) the Pens had 89 points not 87. \n",
      "\n",
      "Ok.  My numbers came from the NHL Guide and Record Book. \n",
      "\n",
      ">They made the transaction to try and build a winner around Mario, that is \n",
      ">true.  But the improvement in attendance came before they started doing\n",
      ">this (Coffey late in 1987) and before they even had a playoff bound team.\n",
      ">A doubling of attendance occured in 1984-85 from the previous year.  An\n",
      ">increase from 38 points to 53 points is not going to do that.  The arrival\n",
      ">of Mario Lemieux is what did it. \n",
      "\n",
      "You can give the credit to Mario since he deserves it.  But my point is that\n",
      "it wasn't Mario himself, but it was the *expectation* of things to come (i.e.\n",
      "a winning team) that he created by being the next great hockey superstar. And\n",
      "before anybody jumps in and says I'm nit-picking and mincing words, go back\n",
      "and read from where this thread started...\n",
      "\n",
      "It might help to think about what would go through a fan's mind who suddenly\n",
      "found an interest in Mario and the Pens.  Was it \"gee, Mario Lemieux is\n",
      "amazing, I'll go watch him play\", or was it \"gee, now we've got a *kick*\n",
      "*ass* guy on *our* side, I'll go watch him play\".  I think it was the latter.\n",
      "\n",
      "> Similar thing happened in L.A.   Before\n",
      ">Gretzky's arrival, about 12000 per game.  After, constant sellouts.  They\n",
      ">are STILL selling out every game despite showing little or no improvement\n",
      ">since Gretzky's first year there.  How do you explain it?  People are going\n",
      ">to see Gretzky.  they certainly aren't going to see a winner, they haven't\n",
      ">GOT a winner.  They've had MUCH better teams in their past history than\n",
      ">they currently have, yet they didn't draw as well then.\n",
      "\n",
      "I don't think this is accurate.  The *tickets* sell, but people don't go to\n",
      "the games.  I think this thread has already been discussed...season ticket\n",
      "holders in LA don't always use their tickets.  So in effect, after the Kings\n",
      "initial success following Gretzky's arrival (68 to 91 points, same source)\n",
      "and corresponding attendance jump, there has been an effective drop in\n",
      "attendance even though ticket sales may not have changed much.  \n",
      "\n",
      "Whether or not the Kings are a 'winner' is debatable.  I claim that since\n",
      "Gretzky's arrival they have at the very least been competitive...I also claim\n",
      "that McNall has made a stupid move in trying to reassemble the Oiler\n",
      "dynasty...but that's another story and included only because I don't like\n",
      "McNall:-).  Anyway,  McNall did do some heavy marketing around Gretzky, and\n",
      "that undoubtedly was also responsible for the attendance and merchandising\n",
      "sales, etc.  But as I said, when the Kings have been in there little\n",
      "tailspins over the past couple of years there have been empty seats at the\n",
      "Forum even if the tickets were sold.\n",
      "\n",
      ">I think in the case of a Lemieux or Gretzky, the player can transcend\n",
      ">winning as the major drawing power.  \n",
      "\n",
      "For the short term, IMO.  Although I think that it's inevitable that the team\n",
      "will improve with a player such as Lemieux or Gretzky, simply because they\n",
      "make people around them better.\n",
      "\n",
      ">But winning sure as hell helps.  ;-)\n",
      "\n",
      "Well, at least we are in full agreement here!\n",
      "\n",
      ">This does not make Roger's point any more valid, but the Jets aren't\n",
      "\n",
      "So are you saying Roger has ever had a valid point? <couldn't resist...>\n",
      "\n",
      ">getting a HUGE jump in productivity, yet they ARE getting a huge\n",
      ">jump in attendance.  This is due to the emergence of Teemu Selanne.\n",
      ">They have the 17th best record in hockey, it sure as hell isn't because\n",
      ">they are winning.\n",
      "\n",
      "Yes, but they are doing no worse than last year.  I think the same type of\n",
      "reasoning I applied to a new Pittsburgh fan applies to all the extra people\n",
      "showing up at Winnipeg games.  It's difficult to predict, but do you think\n",
      "that if the Jets miss the playoffs next season that in the year after they\n",
      "will maintain their attendance levels?  I seriously doubt it, because in that\n",
      "case the expectation of an improving team would be gone, with or without\n",
      "Selanne.\n",
      "\n",
      "I did provide the example of Rocket Ismail and the Toronto Argonauts of the \n",
      "CFL...did you leave it out because you don't know much about the CFL?  If \n",
      "that's the case then fair enough, but if it isn't the case then I'm curious\n",
      "to hear your explanation.\n",
      "\n",
      "\n",
      "\n"
     ]
    }
   ],
   "source": [
    "hockeyText = textFilePairs.filter(lambda (path, content) : 'hockey' in path).map(lambda (path, content): content.encode('utf8'))\n",
    "print(hockeyText.first())"
   ]
  },
  {
   "cell_type": "code",
   "execution_count": 20,
   "metadata": {
    "scrolled": true
   },
   "outputs": [
    {
     "name": "stdout",
     "output_type": "stream",
     "text": [
      "(131072,[1025,1331,1580,1595,2424,2575,2667,2738,2831,2956,3592,4240,4291,4387,4415,4513,5024,5041,5348,5706,5722,5873,6141,6447,6890,7652,7775,8314,8616,8798,8982,9799,10117,10362,10503,10779,10818,10843,10859,10903,11080,12928,13308,13630,13693,13735,13898,14204,14480,15569,16324,16818,16927,17361,17718,17946,17949,18052,18219,19199,19460,19542,19634,20844,20885,21012,21477,21767,22065,22404,23370,23663,23972,24127,24165,24166,24591,24870,25134,25353,25687,25805,25817,26540,27587,28000,28074,28147,28396,28459,29155,29474,29822,29898,30984,31385,31391,31691,32036,32191,33254,33433,33559,33707,33926,33941,33950,34439,34935,35288,35409,35893,35994,36034,36056,36617,36737,36883,36893,37093,37481,37826,38034,38305,38355,38605,39219,40202,40216,41537,41538,42049,42236,43343,43741,44616,44891,44941,45128,45739,45760,46915,47128,47163,47810,48141,48167,48314,48611,48650,48702,48991,49337,49338,49468,49477,49543,49909,50163,50394,50546,50589,50671,51398,52087,52474,52654,53796,53808,54636,54925,54958,55847,55850,55993,56855,57428,57477,57561,57712,57767,58041,58053,58115,58512,58532,58591,58670,58961,59220,59303,59305,59453,59797,60311,60317,61156,61400,61509,61867,62012,62176,62765,62957,62990,63178,63778,65393,65917,66558,67103,67370,67696,68056,68084,68139,69189,70265,70698,70945,71321,71533,71792,72203,72751,72830,73093,73213,73594,74107,74187,74471,74666,74946,75104,75127,75533,75612,75810,76149,76383,76464,76494,76570,76850,76955,77556,78207,78341,78361,78546,78659,79442,80137,80200,80892,81177,81220,81388,81497,82161,82557,82828,82841,82916,82986,83103,83370,84424,84721,84733,84770,84823,85584,86683,86830,87218,87316,88117,89426,89814,89816,89826,89874,90342,90579,91079,91212,91380,92735,92770,92916,93759,94210,94370,95300,96210,96279,96336,97073,98147,98152,98510,98737,99565,99729,99753,100035,100825,101266,101337,101427,101492,101500,102086,103170,103595,103620,104540,104674,104762,105096,105309,105713,106163,106426,106592,107360,107718,107998,108109,108233,108814,109107,109285,109405,110062,110127,110365,110376,110515,110522,110977,111313,111388,112268,112578,113483,113707,114125,114848,114876,115187,115248,115875,116840,117121,117128,117596,117875,117948,118357,119424,119579,119733,120313,120393,121324,121391,121425,121779,121796,122578,122666,123115,123402,124304,124758,125060,125769,126029,126105,126144,126172,126180,127060,127066,127240,127319,127718,128067,128093,129154,130134,130416,130566,130645,130691,130791,130995],[2.93830720193,5.20215345482,7.65957005234,4.26921742617,8.15855049742,4.2378286236,2.42634907522,3.86790611501,0.956231776411,3.94496285451,1.92507657767,6.62617299868,2.94589017666,75.5096356187,1.26876693924,8.67008608755,3.4624410069,4.43558690197,4.34642550458,6.34712695409,6.95894856837,5.4147511778,5.04357514317,5.09677125286,1.58293943358,2.12979308018,6.85886510981,0.0,3.23135460207,6.43765164474,2.20853947515,8.51709318642,58.0904298531,3.36669594994,3.74218022584,6.07683364278,2.71951683247,1.62521325659,4.20629406103,14.504009578,10.8577601594,4.3779346084,3.58802954601,5.04357514317,4.67227893068,4.49621577608,8.62480113405,3.16050691174,14.6983237248,6.07474615105,4.35042796261,4.89275225344,10.5263745935,48.7327606002,7.11550237341,2.62200188397,7.87634692377,4.8282137323,4.0062336799,3.68064927242,18.604456478,10.0871502863,2.43145546929,5.77625316249,3.53520036119,2.36489254812,13.4506674344,10.7746376182,3.09766499412,4.94054291728,9.11256003364,4.18965474203,6.53609171755,0.161125643499,2.28900773504,4.35821010306,7.07017420348,3.79899004161,5.23055871307,4.23006428036,4.11649016617,2.38478033072,0.36524326363,3.85633335906,4.34291365117,13.7167184034,4.57551137875,2.23389229653,4.523490194,4.51822378853,6.676245155,3.56126612881,2.56514939747,4.05406276759,0.0813269936954,2.19902637963,4.56171450708,1.25376356894,5.84294453699,3.74218022584,3.97379840415,3.79192020803,3.399099374,3.79636465979,4.17980244558,4.32743844439,2.41285814548,10.2596939033,32.3770382975,0.0,4.92665380512,8.92161233032,5.44904025128,0.0,10.2824272255,7.60080245454,3.83034301344,7.95747739848,4.75009595304,0.606594287829,2.65987457287,9.51710834116,3.5046852037,4.48285254826,4.54680127286,4.38593465107,3.43413723074,10.0801718883,0.0,4.72263631638,2.89316301227,5.95357298295,0.412540786857,1.30590552489,5.55958212568,2.24989263787,2.70296265459,9.54697766523,1.74344089196,10.0026517813,4.77942356813,3.72544343349,9.68400424949,16.2232561566,1.34390144393,3.03022371332,5.19385734622,3.6062782276,5.8603362797,4.35042796261,4.88610771072,3.1551940433,1.63799461668,0.312763132649,3.12346564006,1.55003347685,2.35588586472,5.30266719137,25.6009654744,5.37078805438,1.11999131534,0.0,1.16513297101,7.33843819007,1.52914136544,6.68451172267,5.80105189277,24.9905638455,3.78749542205,36.679639174,2.08214546401,3.51314688047,8.00150842827,4.3881584283,1.49578603275,5.64070767049,2.4303184595,4.41444982138,0.0,3.47528227485,1.21140106575,6.72275919701,8.51709318642,2.88498574847,5.34951065594,5.15845541917,9.58279951836,8.73712636764,16.4177122461,3.30079965535,2.13199338398,3.09214316893,8.11162807831,4.30126872666,0.600741504776,1.01642551267,3.17715414518,3.75705828987,3.88967239149,4.95462765716,2.11393298145,4.8282137323,3.32413633553,3.07575831303,11.7921087246,6.53609171755,1.6439293522,11.3890939794,2.77489160186,9.09377833859,3.46403717644,2.67936273925,3.53520036119,17.7432105029,2.98854405771,3.4981590895,7.11068622024,2.66560935561,0.639411626394,23.1184889106,4.30867616793,1.30572097197,2.42691516637,3.53006775796,1.67015004683,6.95894856837,3.6624644787,4.7160017417,1.48358670213,0.606777740407,5.32706308415,3.7379696933,4.46966554398,2.56980420928,4.2404270674,4.69390139469,4.93357424796,2.54264764448,3.04272387609,1.57251911456,6.81234509418,4.82571629095,5.74450446418,0.0,2.62849171361,2.2527429961,0.0,3.15462800004,2.13527716901,6.55333959657,5.29559254656,4.12573522431,5.95755030297,3.25829657803,6.49847005471,6.76789333161,15.3476874143,5.52136091286,3.23020900466,4.19627728279,4.85996243062,3.13030717188,2.9876640989,2.60089112381,6.03856749356,7.02294086829,0.0,8.66318061889,1.4969024781,4.48560417167,14.0232373805,4.67415306553,5.50893839286,5.95214382895,5.77625316249,4.79469073804,4.14764533395,3.05644440795,4.2404270674,9.88108583455,3.11216608481,7.60080245454,2.93300182193,4.68303172246,4.9907326618,5.84294453699,2.47031219864,11.5751467005,6.65383595698,3.29673736134,7.18330547677,2.67936273925,5.36009276527,0.926367333325,1.78494840051,6.37702702292,4.72723781496,0.0,3.54208506996,4.4793349154,6.84363885815,2.82757868356,1.78161012837,2.59636695759,3.15462800004,7.62868534418,2.21218745001,5.50893839286,1.9063971417,1.81298525094,6.01156724943,8.74236534609,8.8706548128,1.82407935548,2.65701946743,3.19897319257,3.61367197663,1.30498310069,4.74433224832,2.49243567195,7.1307988253,5.36310344449,5.22891970603,6.78835116343,1.43769819899,6.29246963489,16.4177122461,3.42641518465,8.51709318642,7.82394600586,18.8774089047,4.9981127691,5.52136091286,4.92665380512,3.51819314854,2.82466602746,5.22125632041,15.1307254295,1.23674040295,6.78625841403,8.5300657564,5.31779027963,8.2939496351,12.5849392698,4.75009595304,2.3222652913,8.34009254128,3.18679277401,21.5701121641,3.44348309316,6.65623247854,2.61036986776,4.60008263948,6.63793315198,2.15062273868,11.5875985117,6.35191164537,5.29821736155,6.09672505777,3.83034301344,0.822017556857,2.44232203318,6.09672505777,6.57118303736,3.72752027743,0.0407740742096,2.74331833994,0.00290450401997,21.5248279427,3.75705828987,55.4914613633,3.07035581475,0.833574410697,0.606594287829,3.76998950454,1.96067000696,9.21024036698,4.77942356813,2.48340762387,11.4635059115,19.5065704976,4.64589217551,30.9490774042,2.38261113247,7.1307988253,6.69890828702,9.50019190608,9.83956185165,0.0,8.09663125067,1.81237250583,7.19533643742,15.914954797,3.28198189577,5.61991974821,4.4269239956,1.2198328189,8.7286526617,8.11785658032,3.10321747923])\n"
     ]
    }
   ],
   "source": [
    "hockeyTF = hockeyText.map(lambda text:hashingTF.transform(tokenize(text)))\n",
    "hockeyTFIDF = idf.transform(hockeyTF)\n",
    "print(hockeyTFIDF.first())"
   ]
  },
  {
   "cell_type": "code",
   "execution_count": 21,
   "metadata": {},
   "outputs": [
    {
     "name": "stdout",
     "output_type": "stream",
     "text": [
      "(<class 'pyspark.mllib.linalg.SparseVector'>, <class 'pyspark.mllib.linalg.SparseVector'>)\n"
     ]
    }
   ],
   "source": [
    "hockey1 = hockeyTFIDF.sample(True, 0.1, 41).first()\n",
    "hockey2 = hockeyTFIDF.sample(True, 0.1, 42).first()\n",
    "print(type(hockey1), type(hockey2))"
   ]
  },
  {
   "cell_type": "code",
   "execution_count": 22,
   "metadata": {},
   "outputs": [
    {
     "name": "stdout",
     "output_type": "stream",
     "text": [
      "0.0433910331401\n",
      "0.0433910331401\n"
     ]
    }
   ],
   "source": [
    "# cosin similarity of hockey 1 and hockey2\n",
    "from pyspark.ml.linalg import Vectors\n",
    "from scipy.spatial.distance import cosine\n",
    "h1, h2 = Vectors.dense(hockey1), Vectors.dense(hockey2)\n",
    "print(h1.dot(h2)/(h1.norm(2)*h2.norm(2)))\n",
    "print(1-cosine(h1, h2))"
   ]
  },
  {
   "cell_type": "markdown",
   "metadata": {},
   "source": [
    "While this might seem quite low, recall that the effective dimensionality of our\n",
    "features is high due to the large number of unique terms that is typical when dealing\n",
    "with text data. Hence, we can expect that any two documents might have a relatively\n",
    "low overlap of terms even if they are about the same topic, and therefore would have\n",
    "a lower absolute similarity score.\n",
    "\n",
    "By contrast, we can compare this similarity score to the one computed between\n",
    "one of our hockey documents and another document chosen randomly from the\n",
    "comp.graphics newsgroup, using the same methodology"
   ]
  },
  {
   "cell_type": "code",
   "execution_count": 23,
   "metadata": {},
   "outputs": [
    {
     "name": "stdout",
     "output_type": "stream",
     "text": [
      "0.00109625504927\n",
      "0.00310798348079\n"
     ]
    }
   ],
   "source": [
    "graphText = textFilePairs.filter(lambda (path, content) : 'comp.graphics' in path)\\\n",
    "                         .map(lambda (path, content): content.encode('utf8'))\n",
    "graphicsTF =  hashingTF.transform(tokenize(graphText.first()))\n",
    "graphicsTFIDF = idf.transform(graphicsTF)\n",
    "g1 = Vectors.dense(graphicsTFIDF)\n",
    "print(h1.dot(g1)/(h1.norm(2)*g1.norm(2)))\n",
    "print(h2.dot(g1)/(h2.norm(2)*g1.norm(2)))"
   ]
  },
  {
   "cell_type": "markdown",
   "metadata": {},
   "source": [
    "Finally, it is likely that a document from another sports-related topic might be more\n",
    "similar to our hockey document than one from a computer-related topic. However,\n",
    "we would probably expect a baseball document to not be as similar as our hockey\n",
    "document. Let's see whether this is the case by computing the similarity between a\n",
    "random message from the baseball newsgroup and our hockey document"
   ]
  },
  {
   "cell_type": "code",
   "execution_count": 24,
   "metadata": {},
   "outputs": [
    {
     "name": "stdout",
     "output_type": "stream",
     "text": [
      "0.0338025271309\n",
      "0.0197523934721\n"
     ]
    }
   ],
   "source": [
    "baseballText = textFilePairs.filter(lambda (path, content) : 'baseball' in path)\\\n",
    "                         .map(lambda (path, content): content.encode('utf8'))\n",
    "baseballTF =  hashingTF.transform(tokenize(baseballText.first()))\n",
    "baseballTFIDF = idf.transform(baseballTF)\n",
    "b1 = Vectors.dense(baseballTFIDF)\n",
    "print(h1.dot(b1)/(h1.norm(2)*b1.norm(2)))\n",
    "print(h2.dot(b1)/(h2.norm(2)*b1.norm(2)))"
   ]
  },
  {
   "cell_type": "markdown",
   "metadata": {},
   "source": [
    "## Training a text classifer on the 20 Newsgroups dataset using TF-IDF"
   ]
  },
  {
   "cell_type": "markdown",
   "metadata": {},
   "source": [
    "When using TF-IDF vectors, we expected that the cosine similarity measure would\n",
    "capture the similarity between documents, based on the overlap of terms between\n",
    "them. **In a similar way, we would expect that a machine learning model, such as a\n",
    "classifer, would be able to learn weightings for individual terms; this would allow\n",
    "it to distinguish between documents from different classes. **That is, it should be\n",
    "possible to learn a mapping between the presence (and weighting) of certain terms\n",
    "and a specifc topic.\n",
    "\n",
    "In the 20 Newsgroups example, each newsgroup topic is a class, and we can train a\n",
    "classifer using our TF-IDF transformed vectors as input."
   ]
  },
  {
   "cell_type": "code",
   "execution_count": 25,
   "metadata": {
    "collapsed": true
   },
   "outputs": [],
   "source": [
    "from pyspark.mllib.regression import LabeledPoint\n",
    "from pyspark.mllib.classification import NaiveBayes\n",
    "from pyspark.mllib.evaluation import MulticlassMetrics"
   ]
  },
  {
   "cell_type": "code",
   "execution_count": 26,
   "metadata": {},
   "outputs": [],
   "source": [
    "topics = newsGroup.map(lambda (c, count):c).collect()"
   ]
  },
  {
   "cell_type": "code",
   "execution_count": 27,
   "metadata": {},
   "outputs": [
    {
     "name": "stdout",
     "output_type": "stream",
     "text": [
      "{u'sci.med': 2, u'comp.sys.mac.hardware': 1, u'talk.politics.misc': 10, u'soc.religion.christian': 11, u'rec.motorcycles': 9, u'comp.graphics': 12, u'comp.windows.x': 3, u'misc.forsale': 4, u'talk.politics.guns': 5, u'talk.politics.mideast': 14, u'sci.crypt': 0, u'sci.space': 7, u'rec.sport.hockey': 17, u'comp.sys.ibm.pc.hardware': 15, u'rec.sport.baseball': 8, u'alt.atheism': 16, u'comp.os.ms-windows.misc': 6, u'talk.religion.misc': 13, u'rec.autos': 19, u'sci.electronics': 18}\n"
     ]
    }
   ],
   "source": [
    "topicsMap = {cla:idx for idx, cla in enumerate(topics)}\n",
    "print(topicsMap)"
   ]
  },
  {
   "cell_type": "code",
   "execution_count": 28,
   "metadata": {},
   "outputs": [
    {
     "data": {
      "text/plain": [
       "PythonRDD[95] at RDD at PythonRDD.scala:48"
      ]
     },
     "execution_count": 28,
     "metadata": {},
     "output_type": "execute_result"
    }
   ],
   "source": [
    "textTopics = textFilePairs.map(lambda (path, content) : path.split('/')[-2])\n",
    "trainData = textTopics.zip(tfidf).map(lambda (topic, vector):LabeledPoint(topicsMap[topic], vector))\n",
    "trainData.cache()"
   ]
  },
  {
   "cell_type": "markdown",
   "metadata": {},
   "source": [
    "In the preceding code snippet, we took the textTopics RDD, where each element\n",
    "is the topic, and used the zip function to combine it with each element in our tfidf\n",
    "RDD of TF-IDF vectors. We then mapped over each key-value element in our new\n",
    "zipped RDD and created a LabeledPoint instance, where label is the class index\n",
    "and features is the TF-IDF vector"
   ]
  },
  {
   "cell_type": "code",
   "execution_count": 29,
   "metadata": {},
   "outputs": [],
   "source": [
    "model = NaiveBayes.train(trainData, 0.1)"
   ]
  },
  {
   "cell_type": "code",
   "execution_count": 30,
   "metadata": {},
   "outputs": [
    {
     "name": "stdout",
     "output_type": "stream",
     "text": [
      "training accuracy:0.963194479172\n"
     ]
    }
   ],
   "source": [
    "# training accuracy\n",
    "predictionsVSLabels = trainData.map(lambda point:(point.label, model.predict(point.features)))\n",
    "correctCount = predictionsVSLabels.filter(lambda (label, prediction):label == prediction).count()\n",
    "print('training accuracy:{0}'.format(float(correctCount)/trainData.count()))"
   ]
  },
  {
   "cell_type": "markdown",
   "metadata": {},
   "source": [
    "# Evaluating the impact of text processing"
   ]
  },
  {
   "cell_type": "markdown",
   "metadata": {},
   "source": [
    "## Comparing raw features with processed TF-IDF features on the 20 Newsgroups dataset"
   ]
  },
  {
   "cell_type": "markdown",
   "metadata": {},
   "source": [
    "In this example, we will simply apply the hashing term frequency transformation\n",
    "to the raw text tokens obtained using a simple whitespace splitting of the document\n",
    "text. We will train a model on this data and evaluate the performance on the test set\n",
    "as we did for the model trained with TF-IDF features"
   ]
  },
  {
   "cell_type": "code",
   "execution_count": 31,
   "metadata": {},
   "outputs": [
    {
     "name": "stdout",
     "output_type": "stream",
     "text": [
      "training accuracy:0.508826323949\n"
     ]
    }
   ],
   "source": [
    "rawText = texts.map(lambda text : hashingTF.transform(text.split()))\n",
    "rawTrainData = textTopics.zip(rawText).map(lambda (topic, vector):LabeledPoint(topicsMap[topic], vector))\n",
    "rawModel = NaiveBayes.train(rawTrainData, 0.1)\n",
    "rawPredictionsVSLabels = rawTrainData.map(lambda point:(point.label, model.predict(point.features)))\n",
    "rawCorrectCount = rawPredictionsVSLabels.filter(lambda (label, prediction):label == prediction).count()\n",
    "print('training accuracy:{0}'.format(float(rawCorrectCount)/rawTrainData.count()))"
   ]
  },
  {
   "cell_type": "markdown",
   "metadata": {},
   "source": [
    "# Word2Vec models"
   ]
  },
  {
   "cell_type": "markdown",
   "metadata": {},
   "source": [
    "Until now, we have used a bag-of-words vector, optionally with some weighting\n",
    "scheme such as TF-IDF to represent the text in a document. Another recent class\n",
    "of models that has become popular is related to representing individual words\n",
    "as vectors.\n",
    "\n",
    "These are generally based in some way on the co-occurrence statistics between the\n",
    "words in a corpus. Once the vector representation is computed, we can use these\n",
    "vectors in ways similar to how we might use TF-IDF vectors (such as using them\n",
    "as features for other machine learning models). One such common use case is\n",
    "computing the similarity between two words with respect to their meanings, based\n",
    "on their vector representations."
   ]
  },
  {
   "cell_type": "code",
   "execution_count": 32,
   "metadata": {
    "collapsed": true
   },
   "outputs": [],
   "source": [
    "from pyspark.mllib.feature import Word2Vec\n",
    "word2vec = Word2Vec()\n",
    "word2vecModel = word2vec.fit(tokens)"
   ]
  },
  {
   "cell_type": "markdown",
   "metadata": {},
   "source": [
    "Once trained, we can easily fnd the top 20 synonyms for a given term (that is, the\n",
    "most similar term to the input term, computed by cosine similarity between the word\n",
    "vectors). For example, to fnd the 20 most similar terms to hockey, use the following\n",
    "lines of code:"
   ]
  },
  {
   "cell_type": "code",
   "execution_count": 33,
   "metadata": {},
   "outputs": [
    {
     "name": "stdout",
     "output_type": "stream",
     "text": [
      "football: 0.781936278997\n",
      "telecasts: 0.7474623067\n",
      "franchises: 0.72790238083\n",
      "scny: 0.7240534571\n",
      "scoreboard: 0.717500848617\n",
      "cept: 0.717376210802\n",
      "devellano: 0.716233564392\n",
      "quintin: 0.714930884453\n",
      "goaltenders: 0.711373542351\n",
      "burgh: 0.710741334258\n",
      "staub: 0.709629381769\n",
      "skriko: 0.70589596071\n",
      "sweep: 0.704942337701\n",
      "outplayed: 0.704855835902\n",
      "nba: 0.703270833792\n",
      "players: 0.702700878737\n",
      "skater: 0.701928838807\n",
      "bats: 0.696367061423\n",
      "islander: 0.695730831734\n",
      "baseball: 0.695713528589"
     ]
    }
   ],
   "source": [
    "synonyms = word2vecModel.findSynonyms('basketball', 20)\n",
    "for word, cosine_distance in synonyms:\n",
    "    print(\"{}: {}\".format(word, cosine_distance))"
   ]
  },
  {
   "cell_type": "markdown",
   "metadata": {},
   "source": [
    "# Summary\n",
    "\n",
    "In this chapter, we took a deeper look into more complex text processing and\n",
    "explored MLlib's text feature extraction capabilities, in particular the TF-IDF term\n",
    "weighting schemes. We covered examples of using the resulting TF-IDF feature\n",
    "vectors to compute document similarity and train a newsgroup topic classifcation\n",
    "model. Finally, you learned how to use MLlib's cutting-edge Word2Vec model to\n",
    "compute a vector representation of words in a corpus of text and use the trained\n",
    "model to fnd words with contextual meaning that is similar to a given word"
   ]
  }
 ],
 "metadata": {
  "kernelspec": {
   "display_name": "Apache Toree - PySpark",
   "language": "python",
   "name": "apache_toree_pyspark"
  },
  "language_info": {
   "codemirror_mode": "text/x-ipython",
   "file_extension": ".py",
   "mimetype": "text/x-ipython",
   "name": "python",
   "pygments_lexer": "python",
   "version": "2.7.11\n"
  }
 },
 "nbformat": 4,
 "nbformat_minor": 2
}
